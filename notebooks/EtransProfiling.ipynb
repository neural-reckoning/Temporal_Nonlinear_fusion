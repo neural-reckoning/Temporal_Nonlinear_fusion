{
 "cells": [
  {
   "cell_type": "code",
   "execution_count": 5,
   "metadata": {},
   "outputs": [
    {
     "data": {
      "text/plain": [
       "0.125"
      ]
     },
     "execution_count": 5,
     "metadata": {},
     "output_type": "execute_result"
    }
   ],
   "source": [
    "1/8"
   ]
  },
  {
   "cell_type": "code",
   "execution_count": 115,
   "metadata": {},
   "outputs": [
    {
     "name": "stdout",
     "output_type": "stream",
     "text": [
      "4043\n"
     ]
    }
   ],
   "source": [
    "import cProfile\n",
    "import time\n",
    "\n",
    "import numpy as np\n",
    "import matplotlib.pyplot as plt\n",
    "from numpy.random import choice\n",
    "\n",
    "pe = 0.8\n",
    "pm = 0.8\n",
    "pn = 0.2\n",
    "pi = 0.2\n",
    "pc = 0.8\n",
    "nb_repeats = 1000\n",
    "nb_steps = 600\n",
    "seed = np.random.randint(10000)\n",
    "print(seed)\n",
    "\n",
    "#%%time\n",
    "\n",
    "def vectorized():\n",
    "    np.random.seed(seed)\n",
    "    markovburn = 500\n",
    "    \"\"\"\n",
    "    # trans_prob initialise (neutral)\n",
    "    trans_prob = {\n",
    "        0: [1-pe, pe],  # Probabilities for transitioning from E=0\n",
    "        1: [1-pe, pe],  # Probabilities for transitioning from E=1\n",
    "    }\n",
    "    \"\"\"\n",
    "    trans_prob = {\n",
    "            0: [0.9, 0.1],  # Probabilities for transitioning from E=0\n",
    "            1: [0.4, 0.6],  # Probabilities for transitioning from E=1\n",
    "        }\n",
    "    \n",
    "    #print(f'seed in etrans {random_seed}')\n",
    "    #print(f'pe {pe}')\n",
    "    #print(f'trans_prob in etrans {trans_prob[0]}')\n",
    "\n",
    "    # Initialize numpy arrays for M, A, and V\n",
    "    arr_M = np.zeros(nb_repeats, dtype=int)\n",
    "    #arr_E = np.zeros(nb_repeats, dtype=int)\n",
    "    arr_A = np.zeros((nb_repeats, nb_steps - markovburn), dtype=int) # Discard first 500 items to allow Markov chain burn-in\n",
    "    arr_V = np.zeros((nb_repeats, nb_steps - markovburn), dtype=int)\n",
    "\n",
    "    # Vectorize initial M and first value of E for all trials\n",
    "    arr_M = choice([-1, 0, 1], size=nb_repeats, p=[pm / 2, 1 - pm, pm / 2])\n",
    "    E_initial = choice([0, 1], size=nb_repeats, p=[1 - pe, pe])\n",
    "\n",
    "    # Initialize E for all trials and steps\n",
    "    E_all_trials = np.zeros((nb_repeats, nb_steps), dtype=int)\n",
    "    E_all_trials[:, 0] = E_initial\n",
    "\n",
    "\n",
    "\n",
    "    for trial in range(nb_repeats):\n",
    "        #if run == 0: # Test run\n",
    "        #    M = 1\n",
    "        #else:\n",
    "        #M = choice([-1, 0, 1], p=[pm / 2, 1 - pm, pm / 2])\n",
    "        #arr_M[trial] = M\n",
    "        E = E_all_trials[trial]\n",
    "        M = arr_M[trial]\n",
    "        #E = np.zeros(nb_steps, dtype=np.int32)\n",
    "        if M:\n",
    "            #E[0] = choice([0, 1], p=[1 - pe, pe]) # First value of E\n",
    "            for i in range(1, nb_steps):  # Select one value in E at a time\n",
    "                E[i] = choice([0, 1], p=trans_prob[E[i - 1]])\n",
    "\n",
    "        # Discard initial segment of E to obtain Markov chain that has attained equilubrium\n",
    "        E = E[markovburn:]\n",
    "\n",
    "        vals_no_e = np.array([-1, 0, 1]) # Add noise if E = 0\n",
    "        p_no_e = np.array([pn / 2, 1 - pn, pn / 2])\n",
    "\n",
    "        vals_e = np.array([-M, 0, M])\n",
    "        p_e = np.array([pi, 1 + (- pc - pi), pc])\n",
    "\n",
    "        #A = np.where(E, choice(vals_e, size=nb_steps, p=p_e), choice(vals_no_e, size=nb_steps, p=p_no_e))\n",
    "        #V = np.where(E, choice(vals_e, size=nb_steps, p=p_e), choice(vals_no_e, size=nb_steps, p=p_no_e))\n",
    "        \n",
    "        A = np.where(E, choice(vals_e, size=E.size, p=p_e), choice(vals_no_e, size=E.size, p=p_no_e))\n",
    "        V = np.where(E, choice(vals_e, size=E.size, p=p_e), choice(vals_no_e, size=E.size, p=p_no_e))\n",
    "        \n",
    "\n",
    "        arr_A[trial, :] = A \n",
    "        arr_V[trial, :] = V\n",
    "    return arr_A, arr_V, E, arr_M\n",
    "        \n",
    "\n",
    "#%%time\n",
    "\n",
    "def current():    \n",
    "    np.random.seed(seed)\n",
    "    markovburn = 500\n",
    "    \"\"\"\n",
    "    # trans_prob initialise (neutral)\n",
    "    trans_prob = {\n",
    "        0: [1-pe, pe],  # Probabilities for transitioning from E=0\n",
    "        1: [1-pe, pe],  # Probabilities for transitioning from E=1\n",
    "    }\n",
    "    \"\"\"\n",
    "    trans_prob = {\n",
    "            0: [0.9, 0.1],  # Probabilities for transitioning from E=0\n",
    "            1: [0.4, 0.6],  # Probabilities for transitioning from E=1\n",
    "        }\n",
    "    #print(f'seed in etrans {random_seed}')\n",
    "    #print(f'pe {pe}')\n",
    "    #print(f'trans_prob in etrans {trans_prob[0]}')\n",
    "\n",
    "    # Initialize numpy arrays for M, A, and V\n",
    "    arr_M = np.zeros(nb_repeats, dtype=int)\n",
    "    #arr_E = np.zeros(nb_repeats, dtype=int)\n",
    "    arr_A = np.zeros((nb_repeats, nb_steps - markovburn), dtype=int) # Discard first 500 items to allow Markov chain burn-in\n",
    "    arr_V = np.zeros((nb_repeats, nb_steps - markovburn), dtype=int)\n",
    "    for trial in range(nb_repeats):\n",
    "        #if run == 0: # Test run\n",
    "        #    M = 1\n",
    "        #else:\n",
    "        M = choice([-1, 0, 1], p=[pm / 2, 1 - pm, pm / 2])\n",
    "        arr_M[trial] = M\n",
    "        E = np.zeros(nb_steps, dtype=np.int32)\n",
    "        if M:\n",
    "            E[0] = choice([0, 1], p=[1 - pe, pe]) # First value of E\n",
    "            for i in range(1, nb_steps):  # Select one value in E at a time\n",
    "                E[i] = choice([0, 1], p=trans_prob[E[i - 1]])\n",
    "\n",
    "        # Discard initial segment of E to obtain Markov chain that has attained equilubrium\n",
    "        E = E[markovburn:]\n",
    "\n",
    "        vals_no_e = np.array([-1, 0, 1]) # Add noise if E = 0\n",
    "        p_no_e = np.array([pn / 2, 1 - pn, pn / 2])\n",
    "\n",
    "        vals_e = np.array([-M, 0, M])\n",
    "        p_e = np.array([pi, 1 + (- pc - pi), pc])\n",
    "\n",
    "        #A = np.where(E, choice(vals_e, size=nb_steps, p=p_e), choice(vals_no_e, size=nb_steps, p=p_no_e))\n",
    "        #V = np.where(E, choice(vals_e, size=nb_steps, p=p_e), choice(vals_no_e, size=nb_steps, p=p_no_e))\n",
    "        \n",
    "        A = np.where(E, choice(vals_e, size=E.size, p=p_e), choice(vals_no_e, size=E.size, p=p_no_e))\n",
    "        V = np.where(E, choice(vals_e, size=E.size, p=p_e), choice(vals_no_e, size=E.size, p=p_no_e))\n",
    "        \n",
    "\n",
    "        arr_A[trial, :] = A \n",
    "        arr_V[trial, :] = V\n",
    "    \n",
    "    return arr_A, arr_V, E, arr_M\n"
   ]
  },
  {
   "cell_type": "code",
   "execution_count": 118,
   "metadata": {},
   "outputs": [
    {
     "name": "stdout",
     "output_type": "stream",
     "text": [
      "6.73 s ± 42.2 ms per loop (mean ± std. dev. of 7 runs, 1 loop each)\n"
     ]
    }
   ],
   "source": [
    "%%timeit\n",
    "arr_A, arr_V, E_all_trials, arr_M = current()\n"
   ]
  },
  {
   "cell_type": "code",
   "execution_count": 120,
   "metadata": {},
   "outputs": [
    {
     "name": "stdout",
     "output_type": "stream",
     "text": [
      "5.89 s ± 45.5 ms per loop (mean ± std. dev. of 7 runs, 1 loop each)\n"
     ]
    }
   ],
   "source": [
    "%%timeit\n",
    "arr_A_vec, arr_V_vec, E_all_trials_vec, arr_M_vec = vectorized() \n"
   ]
  },
  {
   "cell_type": "code",
   "execution_count": null,
   "metadata": {},
   "outputs": [],
   "source": [
    "def stats():\n",
    "    print('E    ', np.bincount(E_all_trials))  \n",
    "    print('E vec', np.bincount(E_all_trials_vec))\n",
    "    print('M    ', np.bincount(arr_M + 1))  \n",
    "    print('M vec', np.bincount(arr_M_vec + 1))    \n",
    "stats()"
   ]
  },
  {
   "cell_type": "code",
   "execution_count": null,
   "metadata": {},
   "outputs": [],
   "source": []
  }
 ],
 "metadata": {
  "kernelspec": {
   "display_name": "Python 3 (ipykernel)",
   "language": "python",
   "name": "python3"
  },
  "language_info": {
   "codemirror_mode": {
    "name": "ipython",
    "version": 3
   },
   "file_extension": ".py",
   "mimetype": "text/x-python",
   "name": "python",
   "nbconvert_exporter": "python",
   "pygments_lexer": "ipython3",
   "version": "3.10.14"
  }
 },
 "nbformat": 4,
 "nbformat_minor": 4
}
