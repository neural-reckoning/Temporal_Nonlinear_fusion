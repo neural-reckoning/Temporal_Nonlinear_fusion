{
 "cells": [
  {
   "cell_type": "markdown",
   "metadata": {},
   "source": [
    "# Install packages"
   ]
  },
  {
   "cell_type": "code",
   "execution_count": null,
   "metadata": {},
   "outputs": [],
   "source": [
    "pip install lea==3.4.4\n",
    "pip install multiprocess\n",
    "pip install scikit-optimize"
   ]
  },
  {
   "cell_type": "markdown",
   "metadata": {},
   "source": [
    "ToDo:"
   ]
  },
  {
   "cell_type": "markdown",
   "metadata": {},
   "source": [
    "# Imports"
   ]
  },
  {
   "cell_type": "code",
   "execution_count": 1,
   "metadata": {},
   "outputs": [
    {
     "ename": "ImportError",
     "evalue": "cannot import name 'detection_params_search' from 'multisensory_playbook' (/home/sa1523/SNN_fork/multisensory_playbook.py)",
     "output_type": "error",
     "traceback": [
      "\u001b[0;31m---------------------------------------------------------------------------\u001b[0m",
      "\u001b[0;31mImportError\u001b[0m                               Traceback (most recent call last)",
      "Cell \u001b[0;32mIn[1], line 5\u001b[0m\n\u001b[1;32m      3\u001b[0m \u001b[38;5;28;01mimport\u001b[39;00m \u001b[38;5;21;01mmatplotlib\u001b[39;00m\u001b[38;5;21;01m.\u001b[39;00m\u001b[38;5;21;01mpyplot\u001b[39;00m \u001b[38;5;28;01mas\u001b[39;00m \u001b[38;5;21;01mplt\u001b[39;00m\n\u001b[1;32m      4\u001b[0m \u001b[38;5;28;01mimport\u001b[39;00m \u001b[38;5;21;01mseaborn\u001b[39;00m \u001b[38;5;28;01mas\u001b[39;00m \u001b[38;5;21;01msns\u001b[39;00m\n\u001b[0;32m----> 5\u001b[0m \u001b[38;5;28;01mfrom\u001b[39;00m \u001b[38;5;21;01mmultisensory_playbook\u001b[39;00m \u001b[38;5;28;01mimport\u001b[39;00m detection_params_search\n\u001b[1;32m      6\u001b[0m \u001b[38;5;28;01mfrom\u001b[39;00m \u001b[38;5;21;01msklearn\u001b[39;00m\u001b[38;5;21;01m.\u001b[39;00m\u001b[38;5;21;01mlinear_model\u001b[39;00m \u001b[38;5;28;01mimport\u001b[39;00m LinearRegression, Lasso\n\u001b[1;32m      7\u001b[0m \u001b[38;5;28;01mfrom\u001b[39;00m \u001b[38;5;21;01msklearn\u001b[39;00m\u001b[38;5;21;01m.\u001b[39;00m\u001b[38;5;21;01mpreprocessing\u001b[39;00m \u001b[38;5;28;01mimport\u001b[39;00m PolynomialFeatures\n",
      "\u001b[0;31mImportError\u001b[0m: cannot import name 'detection_params_search' from 'multisensory_playbook' (/home/sa1523/SNN_fork/multisensory_playbook.py)"
     ]
    }
   ],
   "source": [
    "%matplotlib inline\n",
    "import numpy as np\n",
    "import matplotlib.pyplot as plt\n",
    "import seaborn as sns\n",
    "from multisensory_playbook import detection_params_search\n",
    "from sklearn.linear_model import LinearRegression, Lasso\n",
    "from sklearn.preprocessing import PolynomialFeatures\n",
    "from sklearn.ensemble import RandomForestRegressor as RF\n",
    "from sklearn.model_selection import train_test_split, cross_val_score, GridSearchCV\n",
    "import pandas as pd\n",
    "from multiprocess import Pool \n",
    "\n",
    "plt.style.use('./style_sheet.mplstyle')\n",
    "from Helpers import plot_trial_data"
   ]
  },
  {
   "cell_type": "markdown",
   "metadata": {},
   "source": [
    "# Hyperparameters"
   ]
  },
  {
   "cell_type": "code",
   "execution_count": 5,
   "metadata": {},
   "outputs": [],
   "source": [
    "p_ranges = {\n",
    "    \"pm\": (0.0, 1.0),  # p of motion\n",
    "    \"pe\": (0.0, 1.0),  # p of emitting given there is motion\n",
    "    \"pc\": (0.0, 1.0),  # p correct direction when emitting\n",
    "    \"pn\": (0.0, 1.0),  # p not neutral when not emitting\n",
    "    \"pi\": (0.0, 0.5),  # p incorrect when emitting\n",
    "}\n",
    "p_labels = [\"$p_m$\", \"$p_e$\", \"$p_c$\", \"$p_n$\", \"$p_i$\"]\n",
    "\n",
    "nb_trials = 1000# original: 10000\n",
    "nb_steps = 90 # original: 90\n",
    "search_size = 1000 # original: 10000\n",
    "# probability of transitioning from e_current to e_next\n",
    "trans_prob = {\n",
    "    0: [0.5, 0.5],  # Probabilities for transitioning from E=0\n",
    "    1: [0.5, 0.5],  # Probabilities for transitioning from E=1\n",
    "}"
   ]
  },
  {
   "cell_type": "markdown",
   "metadata": {},
   "source": [
    "# Optimizer setup"
   ]
  },
  {
   "cell_type": "code",
   "execution_count": 18,
   "metadata": {},
   "outputs": [],
   "source": [
    "from skopt import gp_minimize\n",
    "from skopt.space import Real\n",
    "from skopt.utils import use_named_args\n",
    "\n",
    "def objective_function(pm, pe, pn, pc, pi, nb_trials, nb_steps, classifier_type, tasktype):\n",
    "    # Generate trials\n",
    "    if tasktype == 'DetectionTask':\n",
    "        task = DetectionTask(**p)\n",
    "        full_trials = task.generate_trials(nb_trials, nb_steps, random_seed=random_seed)\n",
    "        #print(\"Generated trials with DetectionTask\", full_trials) ### TEST\n",
    "        \n",
    "    elif tasktype == 'DetectionTask_Etrans_test':\n",
    "        # Prepare \n",
    "        p['nb_repeats'] = nb_trials\n",
    "        p['nb_steps'] = nb_steps\n",
    "        p['trans_prob'] = trans_prob[0]\n",
    "        task = DetectionTask_Etrans_test(**p, random_seed=random_seed) \n",
    "        full_trials = task.generate_trials\n",
    "        #print(\"Generated trials with DetectionTask_Etrans_test\", full_trials) ### TEST\n",
    "        # Reset p\n",
    "        keys_to_remove = {'nb_repeats', 'nb_steps', 'trans_prob'}\n",
    "        p = dict(filter(lambda item: item[0] not in keys_to_remove, p.items()))\n",
    "    \n",
    "    # Split trials into training and testing sets for LinearClassifier training\n",
    "    training_size = int(nb_trials * 0.7)  # 70% for training, adjust as needed\n",
    "    testing_size = nb_trials - training_size\n",
    "\n",
    "    # Train-test trials \n",
    "    training_trials = Trials(\n",
    "        repeats=training_size,\n",
    "        time_steps=nb_steps,\n",
    "        M=full_trials.M[:training_size],\n",
    "        A=full_trials.A[:training_size],\n",
    "        V=full_trials.V[:training_size],\n",
    "        task=task\n",
    "    )\n",
    "    testing_trials = Trials(\n",
    "        repeats=testing_size,\n",
    "        time_steps=nb_steps,\n",
    "        M=full_trials.M[training_size:],\n",
    "        A=full_trials.A[training_size:],\n",
    "        V=full_trials.V[training_size:],\n",
    "        task=task\n",
    "    )\n",
    "\n",
    "    # Initialize and train the classifier\n",
    "    classifier = classifier_type(task)\n",
    "    trained_classifier = classifier.train(training_trials)\n",
    "\n",
    "    # Test the classifier and get accuracy\n",
    "    test_results = trained_classifier.test(testing_trials)\n",
    "    accuracy = test_results.accuracy\n",
    "\n",
    "    # Return negative accuracy as we are minimizing\n",
    "    return -accuracy\n",
    "\n",
    "# Define parameter space for Bayesian Optimization\n",
    "param_space = [\n",
    "    Real(0.01, 0.99, \"uniform\", name='pm'),\n",
    "    Real(0.01, 0.99, \"uniform\", name='pe'),\n",
    "    Real(0.01, 0.99, \"uniform\", name='pn'),\n",
    "    Real(0.01, 0.99, \"uniform\", name='pc'),\n",
    "    Real(0.01, 0.99, \"uniform\", name='pi')\n",
    "]\n"
   ]
  },
  {
   "cell_type": "code",
   "execution_count": 20,
   "metadata": {},
   "outputs": [
    {
     "ename": "UnboundLocalError",
     "evalue": "cannot access local variable 'full_trials' where it is not associated with a value",
     "output_type": "error",
     "traceback": [
      "\u001b[1;31m---------------------------------------------------------------------------\u001b[0m",
      "\u001b[1;31mUnboundLocalError\u001b[0m                         Traceback (most recent call last)",
      "\u001b[1;32mc:\\Users\\swath\\SNN_fork\\detection_params_optimizer_playbook.ipynb Cell 10\u001b[0m line \u001b[0;36m1\n\u001b[0;32m      <a href='vscode-notebook-cell:/c%3A/Users/swath/SNN_fork/detection_params_optimizer_playbook.ipynb#X13sZmlsZQ%3D%3D?line=7'>8</a>\u001b[0m     \u001b[39mreturn\u001b[39;00m objective_function(pm, pe, pn, pc, pi, nb_trials\u001b[39m=\u001b[39m\u001b[39m100\u001b[39m, nb_steps\u001b[39m=\u001b[39m\u001b[39m10\u001b[39m, classifier_type\u001b[39m=\u001b[39mLinearClassifier, tasktype\u001b[39m=\u001b[39mDetectionTask)\n\u001b[0;32m     <a href='vscode-notebook-cell:/c%3A/Users/swath/SNN_fork/detection_params_optimizer_playbook.ipynb#X13sZmlsZQ%3D%3D?line=9'>10</a>\u001b[0m \u001b[39m# Run Bayesian Optimization\u001b[39;00m\n\u001b[1;32m---> <a href='vscode-notebook-cell:/c%3A/Users/swath/SNN_fork/detection_params_optimizer_playbook.ipynb#X13sZmlsZQ%3D%3D?line=10'>11</a>\u001b[0m result \u001b[39m=\u001b[39m gp_minimize(objective, param_space, n_calls\u001b[39m=\u001b[39m\u001b[39m50\u001b[39m, random_state\u001b[39m=\u001b[39m\u001b[39m0\u001b[39m)\n\u001b[0;32m     <a href='vscode-notebook-cell:/c%3A/Users/swath/SNN_fork/detection_params_optimizer_playbook.ipynb#X13sZmlsZQ%3D%3D?line=12'>13</a>\u001b[0m \u001b[39m# Extract best parameters and performance\u001b[39;00m\n\u001b[0;32m     <a href='vscode-notebook-cell:/c%3A/Users/swath/SNN_fork/detection_params_optimizer_playbook.ipynb#X13sZmlsZQ%3D%3D?line=13'>14</a>\u001b[0m best_parameters \u001b[39m=\u001b[39m result\u001b[39m.\u001b[39mx\n",
      "File \u001b[1;32mc:\\Users\\swath\\anaconda3\\Lib\\site-packages\\skopt\\optimizer\\gp.py:259\u001b[0m, in \u001b[0;36mgp_minimize\u001b[1;34m(func, dimensions, base_estimator, n_calls, n_random_starts, n_initial_points, initial_point_generator, acq_func, acq_optimizer, x0, y0, random_state, verbose, callback, n_points, n_restarts_optimizer, xi, kappa, noise, n_jobs, model_queue_size)\u001b[0m\n\u001b[0;32m    254\u001b[0m \u001b[39mif\u001b[39;00m base_estimator \u001b[39mis\u001b[39;00m \u001b[39mNone\u001b[39;00m:\n\u001b[0;32m    255\u001b[0m     base_estimator \u001b[39m=\u001b[39m cook_estimator(\n\u001b[0;32m    256\u001b[0m         \u001b[39m\"\u001b[39m\u001b[39mGP\u001b[39m\u001b[39m\"\u001b[39m, space\u001b[39m=\u001b[39mspace, random_state\u001b[39m=\u001b[39mrng\u001b[39m.\u001b[39mrandint(\u001b[39m0\u001b[39m, np\u001b[39m.\u001b[39miinfo(np\u001b[39m.\u001b[39mint32)\u001b[39m.\u001b[39mmax),\n\u001b[0;32m    257\u001b[0m         noise\u001b[39m=\u001b[39mnoise)\n\u001b[1;32m--> 259\u001b[0m \u001b[39mreturn\u001b[39;00m base_minimize(\n\u001b[0;32m    260\u001b[0m     func, space, base_estimator\u001b[39m=\u001b[39mbase_estimator,\n\u001b[0;32m    261\u001b[0m     acq_func\u001b[39m=\u001b[39macq_func,\n\u001b[0;32m    262\u001b[0m     xi\u001b[39m=\u001b[39mxi, kappa\u001b[39m=\u001b[39mkappa, acq_optimizer\u001b[39m=\u001b[39macq_optimizer, n_calls\u001b[39m=\u001b[39mn_calls,\n\u001b[0;32m    263\u001b[0m     n_points\u001b[39m=\u001b[39mn_points, n_random_starts\u001b[39m=\u001b[39mn_random_starts,\n\u001b[0;32m    264\u001b[0m     n_initial_points\u001b[39m=\u001b[39mn_initial_points,\n\u001b[0;32m    265\u001b[0m     initial_point_generator\u001b[39m=\u001b[39minitial_point_generator,\n\u001b[0;32m    266\u001b[0m     n_restarts_optimizer\u001b[39m=\u001b[39mn_restarts_optimizer,\n\u001b[0;32m    267\u001b[0m     x0\u001b[39m=\u001b[39mx0, y0\u001b[39m=\u001b[39my0, random_state\u001b[39m=\u001b[39mrng, verbose\u001b[39m=\u001b[39mverbose,\n\u001b[0;32m    268\u001b[0m     callback\u001b[39m=\u001b[39mcallback, n_jobs\u001b[39m=\u001b[39mn_jobs, model_queue_size\u001b[39m=\u001b[39mmodel_queue_size)\n",
      "File \u001b[1;32mc:\\Users\\swath\\anaconda3\\Lib\\site-packages\\skopt\\optimizer\\base.py:299\u001b[0m, in \u001b[0;36mbase_minimize\u001b[1;34m(func, dimensions, base_estimator, n_calls, n_random_starts, n_initial_points, initial_point_generator, acq_func, acq_optimizer, x0, y0, random_state, verbose, callback, n_points, n_restarts_optimizer, xi, kappa, n_jobs, model_queue_size)\u001b[0m\n\u001b[0;32m    297\u001b[0m \u001b[39mfor\u001b[39;00m n \u001b[39min\u001b[39;00m \u001b[39mrange\u001b[39m(n_calls):\n\u001b[0;32m    298\u001b[0m     next_x \u001b[39m=\u001b[39m optimizer\u001b[39m.\u001b[39mask()\n\u001b[1;32m--> 299\u001b[0m     next_y \u001b[39m=\u001b[39m func(next_x)\n\u001b[0;32m    300\u001b[0m     result \u001b[39m=\u001b[39m optimizer\u001b[39m.\u001b[39mtell(next_x, next_y)\n\u001b[0;32m    301\u001b[0m     result\u001b[39m.\u001b[39mspecs \u001b[39m=\u001b[39m specs\n",
      "\u001b[1;32mc:\\Users\\swath\\SNN_fork\\detection_params_optimizer_playbook.ipynb Cell 10\u001b[0m line \u001b[0;36m8\n\u001b[0;32m      <a href='vscode-notebook-cell:/c%3A/Users/swath/SNN_fork/detection_params_optimizer_playbook.ipynb#X13sZmlsZQ%3D%3D?line=5'>6</a>\u001b[0m \u001b[39mdef\u001b[39;00m \u001b[39mobjective\u001b[39m(params):\n\u001b[0;32m      <a href='vscode-notebook-cell:/c%3A/Users/swath/SNN_fork/detection_params_optimizer_playbook.ipynb#X13sZmlsZQ%3D%3D?line=6'>7</a>\u001b[0m     pm, pe, pn, pc, pi \u001b[39m=\u001b[39m params\n\u001b[1;32m----> <a href='vscode-notebook-cell:/c%3A/Users/swath/SNN_fork/detection_params_optimizer_playbook.ipynb#X13sZmlsZQ%3D%3D?line=7'>8</a>\u001b[0m     \u001b[39mreturn\u001b[39;00m objective_function(pm, pe, pn, pc, pi, nb_trials\u001b[39m=\u001b[39m\u001b[39m100\u001b[39m, nb_steps\u001b[39m=\u001b[39m\u001b[39m10\u001b[39m, classifier_type\u001b[39m=\u001b[39mLinearClassifier, tasktype\u001b[39m=\u001b[39mDetectionTask)\n",
      "\u001b[1;32mc:\\Users\\swath\\SNN_fork\\detection_params_optimizer_playbook.ipynb Cell 10\u001b[0m line \u001b[0;36m3\n\u001b[0;32m     <a href='vscode-notebook-cell:/c%3A/Users/swath/SNN_fork/detection_params_optimizer_playbook.ipynb#X13sZmlsZQ%3D%3D?line=25'>26</a>\u001b[0m testing_size \u001b[39m=\u001b[39m nb_trials \u001b[39m-\u001b[39m training_size\n\u001b[0;32m     <a href='vscode-notebook-cell:/c%3A/Users/swath/SNN_fork/detection_params_optimizer_playbook.ipynb#X13sZmlsZQ%3D%3D?line=27'>28</a>\u001b[0m \u001b[39m# Train-test trials \u001b[39;00m\n\u001b[0;32m     <a href='vscode-notebook-cell:/c%3A/Users/swath/SNN_fork/detection_params_optimizer_playbook.ipynb#X13sZmlsZQ%3D%3D?line=28'>29</a>\u001b[0m training_trials \u001b[39m=\u001b[39m Trials(\n\u001b[0;32m     <a href='vscode-notebook-cell:/c%3A/Users/swath/SNN_fork/detection_params_optimizer_playbook.ipynb#X13sZmlsZQ%3D%3D?line=29'>30</a>\u001b[0m     repeats\u001b[39m=\u001b[39mtraining_size,\n\u001b[0;32m     <a href='vscode-notebook-cell:/c%3A/Users/swath/SNN_fork/detection_params_optimizer_playbook.ipynb#X13sZmlsZQ%3D%3D?line=30'>31</a>\u001b[0m     time_steps\u001b[39m=\u001b[39mnb_steps,\n\u001b[1;32m---> <a href='vscode-notebook-cell:/c%3A/Users/swath/SNN_fork/detection_params_optimizer_playbook.ipynb#X13sZmlsZQ%3D%3D?line=31'>32</a>\u001b[0m     M\u001b[39m=\u001b[39mfull_trials\u001b[39m.\u001b[39mM[:training_size],\n\u001b[0;32m     <a href='vscode-notebook-cell:/c%3A/Users/swath/SNN_fork/detection_params_optimizer_playbook.ipynb#X13sZmlsZQ%3D%3D?line=32'>33</a>\u001b[0m     A\u001b[39m=\u001b[39mfull_trials\u001b[39m.\u001b[39mA[:training_size],\n\u001b[0;32m     <a href='vscode-notebook-cell:/c%3A/Users/swath/SNN_fork/detection_params_optimizer_playbook.ipynb#X13sZmlsZQ%3D%3D?line=33'>34</a>\u001b[0m     V\u001b[39m=\u001b[39mfull_trials\u001b[39m.\u001b[39mV[:training_size],\n\u001b[0;32m     <a href='vscode-notebook-cell:/c%3A/Users/swath/SNN_fork/detection_params_optimizer_playbook.ipynb#X13sZmlsZQ%3D%3D?line=34'>35</a>\u001b[0m     task\u001b[39m=\u001b[39mtask\n\u001b[0;32m     <a href='vscode-notebook-cell:/c%3A/Users/swath/SNN_fork/detection_params_optimizer_playbook.ipynb#X13sZmlsZQ%3D%3D?line=35'>36</a>\u001b[0m )\n\u001b[0;32m     <a href='vscode-notebook-cell:/c%3A/Users/swath/SNN_fork/detection_params_optimizer_playbook.ipynb#X13sZmlsZQ%3D%3D?line=36'>37</a>\u001b[0m testing_trials \u001b[39m=\u001b[39m Trials(\n\u001b[0;32m     <a href='vscode-notebook-cell:/c%3A/Users/swath/SNN_fork/detection_params_optimizer_playbook.ipynb#X13sZmlsZQ%3D%3D?line=37'>38</a>\u001b[0m     repeats\u001b[39m=\u001b[39mtesting_size,\n\u001b[0;32m     <a href='vscode-notebook-cell:/c%3A/Users/swath/SNN_fork/detection_params_optimizer_playbook.ipynb#X13sZmlsZQ%3D%3D?line=38'>39</a>\u001b[0m     time_steps\u001b[39m=\u001b[39mnb_steps,\n\u001b[1;32m   (...)\u001b[0m\n\u001b[0;32m     <a href='vscode-notebook-cell:/c%3A/Users/swath/SNN_fork/detection_params_optimizer_playbook.ipynb#X13sZmlsZQ%3D%3D?line=42'>43</a>\u001b[0m     task\u001b[39m=\u001b[39mtask\n\u001b[0;32m     <a href='vscode-notebook-cell:/c%3A/Users/swath/SNN_fork/detection_params_optimizer_playbook.ipynb#X13sZmlsZQ%3D%3D?line=43'>44</a>\u001b[0m )\n\u001b[0;32m     <a href='vscode-notebook-cell:/c%3A/Users/swath/SNN_fork/detection_params_optimizer_playbook.ipynb#X13sZmlsZQ%3D%3D?line=45'>46</a>\u001b[0m \u001b[39m# Initialize and train the classifier\u001b[39;00m\n",
      "\u001b[1;31mUnboundLocalError\u001b[0m: cannot access local variable 'full_trials' where it is not associated with a value"
     ]
    }
   ],
   "source": [
    "# Linear Optimization function\n",
    "#@use_named_args(param_space)\n",
    "from multisensory_playbook import LinearClassifier\n",
    "from multisensory_playbook import DetectionTask\n",
    "from multisensory_playbook import Trials\n",
    "def objective(params):\n",
    "    pm, pe, pn, pc, pi = params\n",
    "    return objective_function(pm, pe, pn, pc, pi, nb_trials=100, nb_steps=10, classifier_type=LinearClassifier, tasktype=DetectionTask)\n",
    "\n",
    "# Run Bayesian Optimization\n",
    "result = gp_minimize(objective, param_space, n_calls=50, random_state=0)\n",
    "\n",
    "# Extract best parameters and performance\n",
    "best_parameters = result.x\n",
    "best_performance = -result.fun\n",
    "\n",
    "print(\"Best Parameters:\", best_parameters)\n",
    "print(\"Best Performance:\", best_performance)"
   ]
  },
  {
   "cell_type": "code",
   "execution_count": null,
   "metadata": {},
   "outputs": [],
   "source": []
  }
 ],
 "metadata": {
  "kernelspec": {
   "display_name": "Python 3 (ipykernel)",
   "language": "python",
   "name": "python3"
  },
  "language_info": {
   "codemirror_mode": {
    "name": "ipython",
    "version": 3
   },
   "file_extension": ".py",
   "mimetype": "text/x-python",
   "name": "python",
   "nbconvert_exporter": "python",
   "pygments_lexer": "ipython3",
   "version": "3.8.18"
  }
 },
 "nbformat": 4,
 "nbformat_minor": 2
}
