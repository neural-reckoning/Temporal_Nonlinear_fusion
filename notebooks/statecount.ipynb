{
 "cells": [
  {
   "cell_type": "code",
   "execution_count": 7,
   "metadata": {},
   "outputs": [],
   "source": [
    "# Troubleshooting for calculate_state in multisensory_playbook \n",
    "import numpy as np\n",
    "import pandas as pd\n",
    "from numpy.random import choice"
   ]
  },
  {
   "cell_type": "code",
   "execution_count": 4,
   "metadata": {},
   "outputs": [],
   "source": [
    "repeats = 1\n",
    "windowsize = 4\n",
    "A = choice([-1, 0, 1], size=5000, p=[0.33,0.34,0.33]) #np.array([1,1,1,0,0,1,1,1,0,0,0])\n",
    "V = choice([-1, 0, 1], size=5000, p=[0.33,0.34,0.33]) #np.array([1,1,1,0,0,1,1,1,0,0,0])"
   ]
  },
  {
   "cell_type": "code",
   "execution_count": 5,
   "metadata": {},
   "outputs": [],
   "source": [
    "def calculate_state( draw_sequence):\n",
    "    # Mapping for the states to digits\n",
    "    state_to_digit = {-1: 0, 0: 1, 1: 2} # To change -1 to 1\n",
    "\n",
    "    # Convert the draw sequence to a base-3 number\n",
    "    base_3_number = 0\n",
    "    for draw in draw_sequence:\n",
    "        base_3_number = base_3_number * 3 + state_to_digit[draw]\n",
    "    \n",
    "    # The state is the base-3 number\n",
    "    return base_3_number\n",
    "\n",
    "def apply_state( row):\n",
    "    # Convert row to list and pass it to the calculate_state function\n",
    "    return calculate_state(row.tolist())\n",
    "\n",
    "max_state = 3**(2*windowsize) # 3**(2n) \n",
    "\n",
    "C = np.zeros((repeats, max_state))\n",
    "for trialnum in range(repeats):\n",
    "    _A = A#[trialnum]\n",
    "    _V = V#[trialnum]\n",
    "    df = pd.DataFrame()\n",
    "    df['A'], df['V'] = _A, _V\n",
    "    \n",
    "if windowsize == 2:\n",
    "    df['A-1'], df['V-1'] =  df['A'].shift(1), df['V'].shift(1) # Shifting column down one step\n",
    "if windowsize == 3:\n",
    "    df['A-1'], df['V-1'] =  df['A'].shift(1), df['V'].shift(1) # Shifting column down one step\n",
    "    df['A-2'], df['V-2'] =  df['A'].shift(2), df['V'].shift(2) # Shifting column down one step (window size is 3)\n",
    "if windowsize == 4:\n",
    "    df['A-1'], df['V-1'] =  df['A'].shift(1), df['V'].shift(1) # Shifting column down one step\n",
    "    df['A-2'], df['V-2'] =  df['A'].shift(2), df['V'].shift(2) # Shifting column down one step (window size is 3)\n",
    "    df['A-3'], df['V-3'] =  df['A'].shift(3), df['V'].shift(3) # Shifting column down one step (window size is 4)\n",
    "\n",
    "df = df.dropna()\n",
    "\n",
    "# Apply the function to each row and store the result in a new column 'state'\n",
    "df['state'] = df.apply(apply_state, axis=1)\n",
    "# Calculate value counts\n",
    "state_counts = df['state'].value_counts()\n",
    "\n",
    "\n",
    "# Generate a range of numbers representing all possible states\n",
    "# Adjust the range based on your specific needs (max_state + 1)\n",
    "all_possible_states = range(0, max_state)  # Replace max_state with your actual maximum state value\n",
    "\n",
    "# Reindex the value counts to include all possible states\n",
    "# Fill missing values (states with 0 occurrences) with 0\n",
    "state_counts = state_counts.reindex(all_possible_states, fill_value=0)\n",
    "C[trialnum,:] = state_counts\n"
   ]
  },
  {
   "cell_type": "code",
   "execution_count": 6,
   "metadata": {},
   "outputs": [
    {
     "data": {
      "text/plain": [
       "6561"
      ]
     },
     "execution_count": 6,
     "metadata": {},
     "output_type": "execute_result"
    }
   ],
   "source": [
    "df.describe()\n"
   ]
  },
  {
   "cell_type": "code",
   "execution_count": 127,
   "metadata": {},
   "outputs": [],
   "source": [
    "# Verify if unique states correspond to unique rows\n",
    "column_name = 'state'\n",
    "\n",
    "# Get unique values in the specified column\n",
    "unique_values = df[column_name].unique()\n",
    "\n",
    "# Iterate over unique values\n",
    "for value in unique_values:\n",
    "    # Filter DataFrame for rows where the specified column has the current unique value\n",
    "    matching_rows = df[df[column_name] == value]\n",
    "    \n",
    "    # Reset index to exclude the index column\n",
    "    matching_rows.reset_index(drop=True, inplace=True)\n",
    "    \n",
    "    # Check if all rows are identical\n",
    "    if matching_rows.equals(pd.concat([matching_rows.iloc[[0]]] * len(matching_rows), ignore_index=True)):\n",
    "        #print(f\"All rows with {column_name} = {value} are identical:\")\n",
    "        #print(matching_rows)\n",
    "        s=2 # placeholder to pass if statement\n",
    "    else:\n",
    "        print(f\"Rows with {column_name} = {value} have different values:\")\n",
    "        print(matching_rows)"
   ]
  },
  {
   "cell_type": "code",
   "execution_count": null,
   "metadata": {},
   "outputs": [],
   "source": [
    "0 6\n",
    "1 3**2\n",
    "2 3**4\n",
    "3 3**6\n",
    "4 3**8"
   ]
  }
 ],
 "metadata": {
  "kernelspec": {
   "display_name": "myenv",
   "language": "python",
   "name": "python3"
  },
  "language_info": {
   "codemirror_mode": {
    "name": "ipython",
    "version": 3
   },
   "file_extension": ".py",
   "mimetype": "text/x-python",
   "name": "python",
   "nbconvert_exporter": "python",
   "pygments_lexer": "ipython3",
   "version": "3.11.7"
  }
 },
 "nbformat": 4,
 "nbformat_minor": 2
}
