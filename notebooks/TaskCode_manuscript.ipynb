{
 "cells": [
  {
   "cell_type": "code",
   "execution_count": 1,
   "id": "9a6d23bb-6919-4b0d-93ab-661e8987a83a",
   "metadata": {},
   "outputs": [],
   "source": [
    "import numpy as np\n",
    "from numpy.random import choice\n",
    "import pandas as pd\n",
    "import matplotlib.pyplot as plt\n",
    "from Helpers import  (plotting_style, plot_trial_data, timeseriesplot, AV_equalitytest, calculate_pg, generate_levy_AV, generate_mix_samples, levy_dist)\n",
    "from multisensory_playbook import DetectionTask_versatile, DetectionTask\n"
   ]
  },
  {
   "cell_type": "markdown",
   "id": "8f0de2c8-4e45-4f58-988e-358f5eaa4bbc",
   "metadata": {},
   "source": [
    "### Helpers"
   ]
  },
  {
   "cell_type": "code",
   "execution_count": 2,
   "id": "a2b4b410-428f-4161-bd63-35ec9da218ce",
   "metadata": {},
   "outputs": [],
   "source": [
    "def plot_stacked_bar(categories, series, labels, colors, title=None, bar_width=0.3):\n",
    "    \"\"\"\n",
    "    Create a stacked bar plot.\n",
    "    \n",
    "    :param categories: List of category names\n",
    "    :param series: List of lists, each containing data for one series\n",
    "    :param labels: List of labels for each series\n",
    "    :param colors: List of colors for each series\n",
    "    :param title: Title of the plot (default: 'Stacked Bar Plot')\n",
    "    :param bar_width: Width of the bars (default: 0.4)\n",
    "    \"\"\"\n",
    "    x = np.arange(len(categories))\n",
    "    fig, ax = plt.subplots(figsize=(5, 4))\n",
    "    \n",
    "    bottom = np.zeros(len(categories))\n",
    "    \n",
    "    for i, data in enumerate(series):\n",
    "        ax.bar(x, data, bottom=bottom, label=labels[i], color=colors[i], width=bar_width)\n",
    "        bottom += data\n",
    "    \n",
    "    ax.set_xlabel('Category')\n",
    "    ax.set_ylabel('Count')\n",
    "    ax.set_title(title)\n",
    "    ax.set_xticks(x)\n",
    "    ax.set_xticklabels(categories)\n",
    "    ax.legend()\n",
    "    \n",
    "    plt.tight_layout()\n",
    "    plt.show()"
   ]
  },
  {
   "cell_type": "markdown",
   "id": "2b720108-4365-46ed-a7b9-5b7e897337bc",
   "metadata": {},
   "source": [
    "### Pseudocode"
   ]
  },
  {
   "cell_type": "markdown",
   "id": "46002934-7588-40af-b44b-babb26a8c496",
   "metadata": {},
   "source": [
    "#### Detection task"
   ]
  },
  {
   "cell_type": "code",
   "execution_count": 3,
   "id": "536d17c8-af83-4311-9178-c9a0f1183467",
   "metadata": {},
   "outputs": [],
   "source": [
    "def detection_task_demo(n, pm, pe, pn, pc, pi):\n",
    "    \"\"\"\n",
    "    Generate a single trial for the Detection task.\n",
    "\n",
    "    Parameters:\n",
    "    n: int - number of time steps\n",
    "    pm: float - probability of target presence (M != 0)\n",
    "    pe: float - probability of signal emission when target is present\n",
    "    pn: float - probability of non-zero observation when no signal is present\n",
    "    pc: float - probability of correct observation when signal is present\n",
    "    pi: float - probability of incorrect observation when signal is present\n",
    "\n",
    "    Returns:\n",
    "    M: int - target motion direction (-1, 0, or 1)\n",
    "    E: list - emission states for each time step\n",
    "    A: list - observations in channel A for each time step\n",
    "    V: list - observations in channel V for each time step\n",
    "    \"\"\"\n",
    "    # Choose target motion direction\n",
    "    M = choice([-1, 0, 1], p=[pm/2, 1-pm, pm/2])\n",
    "    E = []; A = []; V = []\n",
    "\n",
    "    for t in range(n):\n",
    "        # Determine if a signal is emitted (depends on M)\n",
    "        if M:\n",
    "            e = choice([0, 1], p=[1-pe, pe])\n",
    "        else:\n",
    "            e = 0\n",
    "\n",
    "        # Set distribution for A and V (depends on M and E)\n",
    "        if e:\n",
    "            # Signal is emitted\n",
    "            vals = [-M, 0, M]  # Possible values\n",
    "            p = [pi, 1-pc-pi, pc]  # Probabilities\n",
    "        else:\n",
    "            # No signal or no target\n",
    "            vals = [-1, 0, 1]\n",
    "            p = [pn/2, 1-pn, pn/2]\n",
    "\n",
    "        # Generate observations for A and V\n",
    "        A.append(choice(vals, p=p))\n",
    "        V.append(choice(vals, p=p))\n",
    "        E.append(e)\n",
    "\n",
    "    return M, E, A, V"
   ]
  },
  {
   "cell_type": "markdown",
   "id": "4f6d91f2-ece3-428e-9eda-a9bc6c426c15",
   "metadata": {},
   "source": [
    "#### Time-dependent Detection task"
   ]
  },
  {
   "cell_type": "code",
   "execution_count": 4,
   "id": "5134d14f-079c-4da0-8291-1062fe782004",
   "metadata": {},
   "outputs": [],
   "source": [
    "def time_dependent_detection_task_demo(nb_steps, pm, pe, pn, pc, pi, k):\n",
    "    \"\"\"\n",
    "    Generate a single trial for the time-dependent Detection task.\n",
    "    \"\"\"\n",
    "    \n",
    "    # Choose target motion direction\n",
    "    M = choice([-1, 0, 1], p=[pm/2, 1-pm, pm/2])\n",
    "\n",
    "    while True:\n",
    "        # Generate base emission sequence\n",
    "        base_e = choice([0, 1], size=nb_steps, p=[1-pe, pe])\n",
    "        \n",
    "        # Extend emissions for burst length k\n",
    "        idx = np.where(base_e == 1)[0]\n",
    "        fin_e = base_e.copy()\n",
    "        for i in range(1, k):\n",
    "            idx_plus = idx + i\n",
    "            idx_plus = idx_plus[idx_plus < nb_steps]\n",
    "            fin_e[idx_plus] = 1\n",
    "        \n",
    "        # Remove buffer and check if valid\n",
    "        E = fin_e[k:].tolist()\n",
    "        if sum(E) > 0:\n",
    "            break\n",
    "\n",
    "    # Generate observations\n",
    "    A = []\n",
    "    V = []\n",
    "    for e in E:\n",
    "        if e:\n",
    "            vals = [-M, 0, M]\n",
    "            p = [pi, 1-pc-pi, pc]\n",
    "        else:\n",
    "            vals = [-1, 0, 1]\n",
    "            p = [pn/2, 1-pn, pn/2]\n",
    "        \n",
    "        A.append(choice(vals, p=p))\n",
    "        V.append(choice(vals, p=p))\n",
    "\n",
    "    return M, A, V, E"
   ]
  },
  {
   "cell_type": "markdown",
   "id": "5ad693d5-2f0d-4c4e-92e9-ffdeee569cf6",
   "metadata": {},
   "source": [
    "### Analysis"
   ]
  },
  {
   "cell_type": "markdown",
   "id": "bc789eeb-6583-4949-b8d1-1fed34fa7a60",
   "metadata": {},
   "source": [
    "#### Detection task"
   ]
  },
  {
   "cell_type": "code",
   "execution_count": 5,
   "id": "01358f78-5222-403c-b527-8c69c33b024d",
   "metadata": {},
   "outputs": [
    {
     "name": "stdout",
     "output_type": "stream",
     "text": [
      "1962 383 7655 -1\n",
      "1975 408 7617 -1\n"
     ]
    },
    {
     "data": {
      "image/png": "[encoded data removed]",
      "text/plain": [
       "<Figure size 500x400 with 1 Axes>"
      ]
     },
     "metadata": {},
     "output_type": "display_data"
    }
   ],
   "source": [
    "n = 10000\n",
    "pm = 1 # smaller doesnt mean sparser signals from prey !!!!!!!!\n",
    "pe = 0.2\n",
    "pn = 0.1 # smaller = less noisy (more zeros)\n",
    "pc = 0.8 #0.3\n",
    "pi = 0. #0.6 \n",
    "repeats = 1\n",
    "\n",
    "# Detection task trials\n",
    "detectask = DetectionTask(pm, pe, pn, pc, pi)\n",
    "detectrials = detectask.generate_trials(repeats=1, time_steps=n)\n",
    "M, A, V = detectrials.M[0], detectrials.A[0], detectrials.V[0]\n",
    "\n",
    "# Pseudo task trials\n",
    "Mp, Ep, Ap, Vp = detection_task_demo(n, pm, pe, pn, pc, pi)\n",
    "\n",
    "print(np.count_nonzero(A==M),np.count_nonzero(A==-M),np.count_nonzero(A==0), M)\n",
    "print(Ap.count(Mp),Ap.count(-Mp),Ap.count(0), Mp)\n",
    "\n",
    "categories = ['Detection task', 'pseudo']\n",
    "x = np.arange(len(categories))  # Numerical positions for categories\n",
    "s1 = [np.count_nonzero(V==M), Vp.count(Mp)]\n",
    "s2 = [np.count_nonzero(V==-M), Vp.count(-Mp)]\n",
    "#s3 = [np.count_nonzero(V==0), Vp.count(Mp)]\n",
    "\n",
    "plot_stacked_bar(\n",
    "    categories=categories,\n",
    "    series=[s1, s2],\n",
    "    labels=['V=M', 'V=-M'],\n",
    "    colors=['lightblue', 'orange']\n",
    "    \n",
    ")\n"
   ]
  },
  {
   "cell_type": "markdown",
   "id": "acd7859e-37db-4390-ab12-3b6cd386c5b2",
   "metadata": {},
   "source": [
    "#### Time-dependent Detection task"
   ]
  },
  {
   "cell_type": "code",
   "execution_count": 6,
   "id": "5b53f8ab-26bb-4f45-984c-58ce1560fabe",
   "metadata": {},
   "outputs": [
    {
     "name": "stdout",
     "output_type": "stream",
     "text": [
      "1931 1568 6496 1\n",
      "1900 1595 6500 1\n"
     ]
    },
    {
     "data": {
      "image/png": "[encoded data removed]",
      "text/plain": [
       "<Figure size 500x400 with 1 Axes>"
      ]
     },
     "metadata": {},
     "output_type": "display_data"
    }
   ],
   "source": [
    "k=5\n",
    "pe=calculate_pg(0.04,  N=n+1-1, k=k)\n",
    "pn = 1/3\n",
    "pi=0.1\n",
    "timetask = DetectionTask_versatile(pm, pe=pe, pc=pc, pn=pn, pi=pi, time_dep=1, k=k)\n",
    "timetrials = timetask.generate_trials(nb_trials=1, nb_steps=n)\n",
    "Mt, At, Vt = timetrials.M[0], timetrials.A[0], timetrials.V[0]\n",
    "\n",
    "Mtp, Atp, Vtp, Etp = time_dependent_detection_task_demo(nb_steps=n, pm=pm, pe=pe, pn=pn, pc=pc, pi=pi, k=k)\n",
    "\n",
    "print(np.count_nonzero(At==Mt),np.count_nonzero(At==-Mt),np.count_nonzero(At==0), Mt)\n",
    "print(Atp.count(Mtp),Atp.count(-Mtp),Atp.count(0), Mtp)\n",
    "\n",
    "categories = ['Time-dep task', 'pseudo']\n",
    "x = np.arange(len(categories))  # Numerical positions for categories\n",
    "s1 = [np.count_nonzero(Vt==Mt), Vtp.count(Mtp)]\n",
    "s2 = [np.count_nonzero(Vt==-Mt), Vtp.count(-Mtp)]\n",
    "plot_stacked_bar(\n",
    "    categories=categories,\n",
    "    series=[s1, s2],\n",
    "    labels=['V=M', 'V=-M'],\n",
    "    colors=['lightblue', 'orange']\n",
    "    \n",
    ")"
   ]
  },
  {
   "cell_type": "markdown",
   "id": "325be3ed-0fd0-472c-8702-04dcf6d9bf39",
   "metadata": {},
   "source": [
    "#### Levy flight"
   ]
  },
  {
   "cell_type": "code",
   "execution_count": 20,
   "id": "18ea9b32-fa0f-4cf5-88a5-7004207fe09f",
   "metadata": {},
   "outputs": [
    {
     "name": "stdout",
     "output_type": "stream",
     "text": [
      "10007\n",
      "2120 1647 6233 1\n",
      "2041 1631 6328 1\n"
     ]
    },
    {
     "data": {
      "image/png": "[encoded data removed]",
      "text/plain": [
       "<Figure size 500x400 with 1 Axes>"
      ]
     },
     "metadata": {},
     "output_type": "display_data"
    }
   ],
   "source": [
    "total_sequence_length = n\n",
    "emission_probability = 0.04\n",
    "lmax = 8\n",
    "\n",
    "#n = total_sequence_length\n",
    "pe_sparse = emission_probability\n",
    "N = n + lmax - 1\n",
    "print(N)\n",
    "num_nonzero = np.random.binomial(N, pe_sparse)\n",
    "E_starts = np.random.choice(np.arange(N), size=num_nonzero, replace=False)\n",
    "\n",
    "L = np.random.choice(np.arange(lmax + 1), size=num_nonzero, p=levy_dist(lmax))\n",
    "E = np.zeros(N, dtype=bool)\n",
    "for e_start, l in zip(E_starts, L):\n",
    "    E[e_start:e_start+l] = 1\n",
    "E = E[lmax-1:]\n",
    "Mlp = 1\n",
    "def generate_obs(E, M, pc, pi, pn):\n",
    "    return [np.random.choice([-M, 0, M], p=[pi, 1-pc-pi, pc]) if e else\n",
    "            np.random.choice([-1, 0, 1], p=[pn/2, 1-pn, pn/2]) for e in E]\n",
    "\n",
    "Vlp = generate_obs(E, Mlp, pc, pi, pn)\n",
    "\n",
    "# Original code\n",
    "pl = levy_dist(lmax)\n",
    "E = generate_mix_samples(pg=pe_sparse, pl=pl, N=n, repeats=1)\n",
    "Ml, Al, Vl, El = generate_levy_AV(pm, pn, pi, pc, nb_trials=1, nb_steps=n, E=E)\n",
    "\n",
    "print(np.count_nonzero(Al==Ml),np.count_nonzero(Al==-Ml),np.count_nonzero(Al==0), Mt)\n",
    "print(Alp.count(Mlp),Alp.count(-Mlp),Alp.count(0), Mlp)\n",
    "categories = ['Levy', 'pseudo']\n",
    "x = np.arange(len(categories))  # Numerical positions for categories\n",
    "s1 = [np.count_nonzero(Vl==Ml), Vlp.count(Mlp)]\n",
    "s2 = [np.count_nonzero(Vl==-Ml), Vlp.count(-Mlp)]\n",
    "plot_stacked_bar(\n",
    "    categories=categories,\n",
    "    series=[s1, s2],\n",
    "    labels=['V=M', 'V=-M'],\n",
    "    colors=['lightblue', 'orange']\n",
    "    \n",
    ")"
   ]
  }
 ],
 "metadata": {
  "kernelspec": {
   "display_name": "cuda-env",
   "language": "python",
   "name": "cuda-env"
  },
  "language_info": {
   "codemirror_mode": {
    "name": "ipython",
    "version": 3
   },
   "file_extension": ".py",
   "mimetype": "text/x-python",
   "name": "python",
   "nbconvert_exporter": "python",
   "pygments_lexer": "ipython3",
   "version": "3.12.3"
  }
 },
 "nbformat": 4,
 "nbformat_minor": 5
}
