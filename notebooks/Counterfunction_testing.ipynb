{
 "cells": [
  {
   "cell_type": "markdown",
   "metadata": {},
   "source": [
    "### Core function for testing"
   ]
  },
  {
   "cell_type": "code",
   "execution_count": 73,
   "metadata": {},
   "outputs": [],
   "source": [
    "from numpy.random import choice, rand, randn\n",
    "import numpy as np\n",
    "import lea  # probability calculations, see https://pypi.org/project/lea/\n",
    "from collections import defaultdict\n",
    "from sklearn import linear_model\n",
    "from sklearn.preprocessing import StandardScaler\n",
    "from sklearn.pipeline import make_pipeline\n",
    "from dataclasses import dataclass, field\n",
    "from typing import Optional\n",
    "import matplotlib.pyplot as plt\n",
    "import copy\n",
    "import contourpy as cp\n",
    "import pandas as pd\n",
    "import random\n",
    "import numba\n",
    "from numba import jit, njit\n",
    "from numba import types\n",
    "from numba.typed import Dict\n",
    "\n",
    "import math\n",
    "def counts(A, V, time_steps, repeats, windowsize=3, pairs=2): # pairs = 2 implemented!\n",
    "        A = A\n",
    "        V = V\n",
    "        #print(type(A))\n",
    "\n",
    "        def calculate_state(draw_sequence):\n",
    "            # Mapping for the states to digits\n",
    "            state_to_digit = {-1: 0, 0: 1, 1: 2} # To change -1 to 1\n",
    "            \n",
    "            # Convert the draw sequence to a base-3 number\n",
    "            base_3_number = 0\n",
    "            for draw in draw_sequence:\n",
    "                base_3_number = base_3_number * 3 + state_to_digit[draw]\n",
    "            #print(draw_sequence, base_3_number)\n",
    "\n",
    "            # The state is the base-3 number\n",
    "            return base_3_number\n",
    "\n",
    "        def apply_state(row):\n",
    "            # Convert row to list and pass it to the calculate_state function\n",
    "            #print(row.tolist())\n",
    "            return calculate_state(row.tolist())\n",
    "        \n",
    "        if time_steps == 0:\n",
    "            return np.zeros((repeats, 6 + 3 * pairs))\n",
    "        \n",
    "        if pairs == 0:\n",
    "            CA = np.apply_along_axis(np.bincount, 1, A + 1, minlength=3)  # (repeats, 3)\n",
    "            CV = np.apply_along_axis(np.bincount, 1, V + 1, minlength=3)  # (repeats, 3)\n",
    "            C = np.concatenate((CA, CV), axis=1)\n",
    "\n",
    "        elif pairs == 1:\n",
    "            AV = (A + 1) + 3 * (V + 1)  # shape (repeats, time_steps)\n",
    "            C = np.apply_along_axis(np.bincount, 1, AV, minlength=9)  # (repeats, 9)     \n",
    "\n",
    "        elif pairs == 2: # consider windows with n number of consecutive AV-pairs\n",
    "            max_state = 3**(2*windowsize) # 3**(2n) \n",
    "            C = np.zeros((repeats, max_state))\n",
    "            for trialnum in range(repeats):\n",
    "                #print(trialnum)\n",
    "                _A = A[trialnum]\n",
    "                _V = V[trialnum]\n",
    "                #print(A.shape)\n",
    "                df = pd.DataFrame()\n",
    "                df['A'], df['V'] = _A, _V\n",
    "                \n",
    "                \n",
    "                if windowsize == 2:\n",
    "                    df['A-1'], df['V-1'] =  df['A'].shift(1), df['V'].shift(1) # Shifting column down one step\n",
    "                if windowsize == 3:\n",
    "                    df['A-1'], df['V-1'] =  df['A'].shift(1), df['V'].shift(1) # Shifting column down one step\n",
    "                    df['A-2'], df['V-2'] =  df['A'].shift(2), df['V'].shift(2) # Shifting column down one step (window size is 3)\n",
    "                df = df.dropna()\n",
    "                #print(df)\n",
    "                #return df\n",
    "                \n",
    "                # Apply the function to each row and store the result in a new column 'state'\n",
    "                df['state'] = df.apply(apply_state, axis=1)\n",
    "                # Calculate value counts\n",
    "                state_counts = df['state'].value_counts()\n",
    "                \n",
    "\n",
    "                # Generate a range of numbers representing all possible states\n",
    "                # Adjust the range based on your specific needs (max_state + 1)\n",
    "                \n",
    "                all_possible_states = range(0, max_state)  # Replace max_state with your actual maximum state value\n",
    "\n",
    "                # Reindex the value counts to include all possible states\n",
    "                # Fill missing values (states with 0 occurrences) with 0\n",
    "                state_counts = state_counts.reindex(all_possible_states, fill_value=0)\n",
    "                #return state_counts\n",
    "                \n",
    "                #state_counts = state_counts.values.reshape(1,-1)\n",
    "                C[trialnum,:] = state_counts\n",
    "\n",
    "        return C\n",
    "\"\"\"\n",
    "A = np.load('A.npy')\n",
    "V = np.load('V.npy')\n",
    "M = np.load('M.npy')\n",
    "\"\"\"\n",
    "\n",
    "test = np.load('test.npy', allow_pickle=1)\n",
    "test = test.item()\n",
    "train = np.load('train.npy', allow_pickle=1)\n",
    "train = train.item()"
   ]
  },
  {
   "cell_type": "code",
   "execution_count": 166,
   "metadata": {},
   "outputs": [],
   "source": [
    "u = np.unique(test.M)\n",
    "if len(u) == 1:\n",
    "    print('skip')"
   ]
  },
  {
   "cell_type": "code",
   "execution_count": 167,
   "metadata": {},
   "outputs": [
    {
     "data": {
      "text/plain": [
       "3"
      ]
     },
     "execution_count": 167,
     "metadata": {},
     "output_type": "execute_result"
    }
   ],
   "source": [
    "len(u)"
   ]
  },
  {
   "cell_type": "markdown",
   "metadata": {},
   "source": [
    "### Observe outcomes of pairs = [0, 1, 2]"
   ]
  },
  {
   "cell_type": "code",
   "execution_count": 54,
   "metadata": {},
   "outputs": [],
   "source": [
    "def getcounts(A, V, timesteps, repeats):\n",
    "    C0 = counts(A,V, timesteps, repeats, windowsize=None, pairs=0)\n",
    "    C1 = counts(A,V, timesteps, repeats, windowsize=None, pairs=1)\n",
    "    C2 = counts(A,V, timesteps, repeats, windowsize=1, pairs=2)    \n",
    "    return C0, C1, C2"
   ]
  },
  {
   "cell_type": "code",
   "execution_count": 66,
   "metadata": {},
   "outputs": [],
   "source": [
    "# Train\n",
    "Atrain = train.A\n",
    "Vtrain = train.V\n",
    "C0train, C1train, C2train = getcounts(Atrain, Vtrain, 100, 100)\n",
    "\n",
    "# Test\n",
    "Atest = test.A\n",
    "Vtest = test.V\n",
    "C0test, C1test, C2test = getcounts(Atest, Vtest, 100, 100)\n"
   ]
  },
  {
   "cell_type": "code",
   "execution_count": 67,
   "metadata": {},
   "outputs": [
    {
     "name": "stdout",
     "output_type": "stream",
     "text": [
      "[38 31 31]\n",
      "[38 36 26]\n"
     ]
    }
   ],
   "source": [
    "print(np.bincount (Atrain[0]+1))\n",
    "print(np.bincount (Vtrain[0]+1))"
   ]
  },
  {
   "cell_type": "code",
   "execution_count": 68,
   "metadata": {},
   "outputs": [
    {
     "name": "stdout",
     "output_type": "stream",
     "text": [
      "[38 31 31 38 36 26]\n"
     ]
    }
   ],
   "source": [
    "print(C0train[0] )\n"
   ]
  },
  {
   "cell_type": "code",
   "execution_count": 69,
   "metadata": {},
   "outputs": [
    {
     "name": "stdout",
     "output_type": "stream",
     "text": [
      "[19 12  7 14  9 13  5 10 11]\n",
      "[19. 14.  5. 12.  9. 10.  7. 13. 11.]\n"
     ]
    }
   ],
   "source": [
    "print(C1train[0])\n",
    "print(C2train[0])"
   ]
  },
  {
   "cell_type": "code",
   "execution_count": 70,
   "metadata": {},
   "outputs": [
    {
     "name": "stdout",
     "output_type": "stream",
     "text": [
      "[34 36 30]\n",
      "[33 35 32]\n"
     ]
    }
   ],
   "source": [
    "print(np.bincount (Atest[0]+1))\n",
    "print(np.bincount (Vtest[0]+1))"
   ]
  },
  {
   "cell_type": "code",
   "execution_count": 71,
   "metadata": {},
   "outputs": [
    {
     "name": "stdout",
     "output_type": "stream",
     "text": [
      "[34 36 30 33 35 32]\n"
     ]
    }
   ],
   "source": [
    "print(C0test[0] )"
   ]
  },
  {
   "cell_type": "code",
   "execution_count": 72,
   "metadata": {},
   "outputs": [
    {
     "name": "stdout",
     "output_type": "stream",
     "text": [
      "[ 6 15 12 15 11  9 13 10  9]\n",
      "[ 6. 15. 13. 15. 11. 10. 12.  9.  9.]\n"
     ]
    }
   ],
   "source": [
    "print(C1test[0])\n",
    "print(C2test[0])"
   ]
  },
  {
   "cell_type": "code",
   "execution_count": 76,
   "metadata": {},
   "outputs": [],
   "source": [
    "dftrain = counts(Atrain,Vtrain, 100, 100, windowsize=1, pairs=2)\n",
    "dftest = counts(Atest,Vtest, 100, 100, windowsize=1, pairs=2)"
   ]
  },
  {
   "cell_type": "code",
   "execution_count": 78,
   "metadata": {},
   "outputs": [
    {
     "data": {
      "text/html": [
       "<div>\n",
       "<style scoped>\n",
       "    .dataframe tbody tr th:only-of-type {\n",
       "        vertical-align: middle;\n",
       "    }\n",
       "\n",
       "    .dataframe tbody tr th {\n",
       "        vertical-align: top;\n",
       "    }\n",
       "\n",
       "    .dataframe thead th {\n",
       "        text-align: right;\n",
       "    }\n",
       "</style>\n",
       "<table border=\"1\" class=\"dataframe\">\n",
       "  <thead>\n",
       "    <tr style=\"text-align: right;\">\n",
       "      <th></th>\n",
       "      <th>A</th>\n",
       "      <th>V</th>\n",
       "    </tr>\n",
       "  </thead>\n",
       "  <tbody>\n",
       "    <tr>\n",
       "      <th>0</th>\n",
       "      <td>0</td>\n",
       "      <td>-1</td>\n",
       "    </tr>\n",
       "    <tr>\n",
       "      <th>1</th>\n",
       "      <td>0</td>\n",
       "      <td>-1</td>\n",
       "    </tr>\n",
       "    <tr>\n",
       "      <th>2</th>\n",
       "      <td>-1</td>\n",
       "      <td>0</td>\n",
       "    </tr>\n",
       "    <tr>\n",
       "      <th>3</th>\n",
       "      <td>1</td>\n",
       "      <td>1</td>\n",
       "    </tr>\n",
       "    <tr>\n",
       "      <th>4</th>\n",
       "      <td>0</td>\n",
       "      <td>-1</td>\n",
       "    </tr>\n",
       "  </tbody>\n",
       "</table>\n",
       "</div>"
      ],
      "text/plain": [
       "   A  V\n",
       "0  0 -1\n",
       "1  0 -1\n",
       "2 -1  0\n",
       "3  1  1\n",
       "4  0 -1"
      ]
     },
     "execution_count": 78,
     "metadata": {},
     "output_type": "execute_result"
    }
   ],
   "source": [
    "dftrain.head()"
   ]
  },
  {
   "cell_type": "code",
   "execution_count": 79,
   "metadata": {},
   "outputs": [
    {
     "data": {
      "text/html": [
       "<div>\n",
       "<style scoped>\n",
       "    .dataframe tbody tr th:only-of-type {\n",
       "        vertical-align: middle;\n",
       "    }\n",
       "\n",
       "    .dataframe tbody tr th {\n",
       "        vertical-align: top;\n",
       "    }\n",
       "\n",
       "    .dataframe thead th {\n",
       "        text-align: right;\n",
       "    }\n",
       "</style>\n",
       "<table border=\"1\" class=\"dataframe\">\n",
       "  <thead>\n",
       "    <tr style=\"text-align: right;\">\n",
       "      <th></th>\n",
       "      <th>A</th>\n",
       "      <th>V</th>\n",
       "    </tr>\n",
       "  </thead>\n",
       "  <tbody>\n",
       "    <tr>\n",
       "      <th>0</th>\n",
       "      <td>0</td>\n",
       "      <td>0</td>\n",
       "    </tr>\n",
       "    <tr>\n",
       "      <th>1</th>\n",
       "      <td>0</td>\n",
       "      <td>-1</td>\n",
       "    </tr>\n",
       "    <tr>\n",
       "      <th>2</th>\n",
       "      <td>1</td>\n",
       "      <td>0</td>\n",
       "    </tr>\n",
       "    <tr>\n",
       "      <th>3</th>\n",
       "      <td>-1</td>\n",
       "      <td>1</td>\n",
       "    </tr>\n",
       "    <tr>\n",
       "      <th>4</th>\n",
       "      <td>1</td>\n",
       "      <td>-1</td>\n",
       "    </tr>\n",
       "  </tbody>\n",
       "</table>\n",
       "</div>"
      ],
      "text/plain": [
       "   A  V\n",
       "0  0  0\n",
       "1  0 -1\n",
       "2  1  0\n",
       "3 -1  1\n",
       "4  1 -1"
      ]
     },
     "execution_count": 79,
     "metadata": {},
     "output_type": "execute_result"
    }
   ],
   "source": [
    "dftest.head()"
   ]
  },
  {
   "cell_type": "code",
   "execution_count": 48,
   "metadata": {},
   "outputs": [
    {
     "data": {
      "text/html": [
       "<div>\n",
       "<style scoped>\n",
       "    .dataframe tbody tr th:only-of-type {\n",
       "        vertical-align: middle;\n",
       "    }\n",
       "\n",
       "    .dataframe tbody tr th {\n",
       "        vertical-align: top;\n",
       "    }\n",
       "\n",
       "    .dataframe thead th {\n",
       "        text-align: right;\n",
       "    }\n",
       "</style>\n",
       "<table border=\"1\" class=\"dataframe\">\n",
       "  <thead>\n",
       "    <tr style=\"text-align: right;\">\n",
       "      <th></th>\n",
       "      <th>A</th>\n",
       "      <th>V</th>\n",
       "      <th>A-1</th>\n",
       "      <th>V-1</th>\n",
       "    </tr>\n",
       "  </thead>\n",
       "  <tbody>\n",
       "    <tr>\n",
       "      <th>0</th>\n",
       "      <td>-1</td>\n",
       "      <td>1</td>\n",
       "      <td>NaN</td>\n",
       "      <td>NaN</td>\n",
       "    </tr>\n",
       "    <tr>\n",
       "      <th>1</th>\n",
       "      <td>1</td>\n",
       "      <td>-1</td>\n",
       "      <td>-1.0</td>\n",
       "      <td>1.0</td>\n",
       "    </tr>\n",
       "    <tr>\n",
       "      <th>2</th>\n",
       "      <td>0</td>\n",
       "      <td>-1</td>\n",
       "      <td>1.0</td>\n",
       "      <td>-1.0</td>\n",
       "    </tr>\n",
       "    <tr>\n",
       "      <th>3</th>\n",
       "      <td>-1</td>\n",
       "      <td>0</td>\n",
       "      <td>0.0</td>\n",
       "      <td>-1.0</td>\n",
       "    </tr>\n",
       "    <tr>\n",
       "      <th>4</th>\n",
       "      <td>0</td>\n",
       "      <td>-1</td>\n",
       "      <td>-1.0</td>\n",
       "      <td>0.0</td>\n",
       "    </tr>\n",
       "  </tbody>\n",
       "</table>\n",
       "</div>"
      ],
      "text/plain": [
       "   A  V  A-1  V-1\n",
       "0 -1  1  NaN  NaN\n",
       "1  1 -1 -1.0  1.0\n",
       "2  0 -1  1.0 -1.0\n",
       "3 -1  0  0.0 -1.0\n",
       "4  0 -1 -1.0  0.0"
      ]
     },
     "execution_count": 48,
     "metadata": {},
     "output_type": "execute_result"
    }
   ],
   "source": [
    "df1 = df\n",
    "df1['A-1'], df1['V-1'] =  df1['A'].shift(1), df1['V'].shift(1)\n",
    "df1.head()"
   ]
  },
  {
   "cell_type": "code",
   "execution_count": 58,
   "metadata": {},
   "outputs": [
    {
     "data": {
      "text/html": [
       "<div>\n",
       "<style scoped>\n",
       "    .dataframe tbody tr th:only-of-type {\n",
       "        vertical-align: middle;\n",
       "    }\n",
       "\n",
       "    .dataframe tbody tr th {\n",
       "        vertical-align: top;\n",
       "    }\n",
       "\n",
       "    .dataframe thead th {\n",
       "        text-align: right;\n",
       "    }\n",
       "</style>\n",
       "<table border=\"1\" class=\"dataframe\">\n",
       "  <thead>\n",
       "    <tr style=\"text-align: right;\">\n",
       "      <th></th>\n",
       "      <th>A</th>\n",
       "      <th>V</th>\n",
       "      <th>A-1</th>\n",
       "      <th>V-1</th>\n",
       "    </tr>\n",
       "  </thead>\n",
       "  <tbody>\n",
       "    <tr>\n",
       "      <th>0</th>\n",
       "      <td>-1</td>\n",
       "      <td>1</td>\n",
       "      <td>1.0</td>\n",
       "      <td>-1.0</td>\n",
       "    </tr>\n",
       "    <tr>\n",
       "      <th>1</th>\n",
       "      <td>1</td>\n",
       "      <td>-1</td>\n",
       "      <td>0.0</td>\n",
       "      <td>-1.0</td>\n",
       "    </tr>\n",
       "    <tr>\n",
       "      <th>2</th>\n",
       "      <td>0</td>\n",
       "      <td>-1</td>\n",
       "      <td>-1.0</td>\n",
       "      <td>0.0</td>\n",
       "    </tr>\n",
       "    <tr>\n",
       "      <th>3</th>\n",
       "      <td>-1</td>\n",
       "      <td>0</td>\n",
       "      <td>0.0</td>\n",
       "      <td>-1.0</td>\n",
       "    </tr>\n",
       "    <tr>\n",
       "      <th>4</th>\n",
       "      <td>0</td>\n",
       "      <td>-1</td>\n",
       "      <td>1.0</td>\n",
       "      <td>1.0</td>\n",
       "    </tr>\n",
       "    <tr>\n",
       "      <th>5</th>\n",
       "      <td>1</td>\n",
       "      <td>1</td>\n",
       "      <td>-1.0</td>\n",
       "      <td>0.0</td>\n",
       "    </tr>\n",
       "    <tr>\n",
       "      <th>6</th>\n",
       "      <td>-1</td>\n",
       "      <td>0</td>\n",
       "      <td>-1.0</td>\n",
       "      <td>0.0</td>\n",
       "    </tr>\n",
       "    <tr>\n",
       "      <th>7</th>\n",
       "      <td>-1</td>\n",
       "      <td>0</td>\n",
       "      <td>1.0</td>\n",
       "      <td>-1.0</td>\n",
       "    </tr>\n",
       "    <tr>\n",
       "      <th>8</th>\n",
       "      <td>1</td>\n",
       "      <td>-1</td>\n",
       "      <td>-1.0</td>\n",
       "      <td>1.0</td>\n",
       "    </tr>\n",
       "    <tr>\n",
       "      <th>9</th>\n",
       "      <td>-1</td>\n",
       "      <td>1</td>\n",
       "      <td>0.0</td>\n",
       "      <td>-1.0</td>\n",
       "    </tr>\n",
       "  </tbody>\n",
       "</table>\n",
       "</div>"
      ],
      "text/plain": [
       "   A  V  A-1  V-1\n",
       "0 -1  1  1.0 -1.0\n",
       "1  1 -1  0.0 -1.0\n",
       "2  0 -1 -1.0  0.0\n",
       "3 -1  0  0.0 -1.0\n",
       "4  0 -1  1.0  1.0\n",
       "5  1  1 -1.0  0.0\n",
       "6 -1  0 -1.0  0.0\n",
       "7 -1  0  1.0 -1.0\n",
       "8  1 -1 -1.0  1.0\n",
       "9 -1  1  0.0 -1.0"
      ]
     },
     "execution_count": 58,
     "metadata": {},
     "output_type": "execute_result"
    }
   ],
   "source": [
    "df2 = df\n",
    "df2['A-1'], df2['V-1'] =  df2['A'].shift(-1), df2['V'].shift(-1)\n",
    "df2.head(10)"
   ]
  },
  {
   "cell_type": "code",
   "execution_count": 53,
   "metadata": {},
   "outputs": [
    {
     "name": "stdout",
     "output_type": "stream",
     "text": [
      "[-1  1  0 -1  0  1 -1 -1  1 -1]\n",
      "[ 1 -1 -1  0 -1  1  0  0 -1  1]\n"
     ]
    }
   ],
   "source": [
    "print(A[-1][:10])\n",
    "print(V[-1][:10])"
   ]
  },
  {
   "cell_type": "markdown",
   "metadata": {},
   "source": [
    "### Test nested functions within core fn"
   ]
  },
  {
   "cell_type": "code",
   "execution_count": 162,
   "metadata": {},
   "outputs": [],
   "source": [
    "def calculate_state_(draw_sequence):\n",
    "    # Mapping for the states to digits\n",
    "    state_to_digit = {-1: 0, 0: 1, 1: 2} # To change -1 to 1\n",
    "    \n",
    "    # Convert the draw sequence to a base-3 number\n",
    "    base_3_number = 0\n",
    "    for draw in draw_sequence:\n",
    "        base_3_number = base_3_number * 3 + state_to_digit[draw]\n",
    "    #print(draw_sequence, base_3_number)\n",
    "\n",
    "    # The state is the base-3 number\n",
    "    return base_3_number\n",
    "\n",
    "def apply_state_(row):\n",
    "    # Convert row to list and pass it to the calculate_state function\n",
    "    #print(row.tolist())\n",
    "    return calculate_state_(row.tolist())\n",
    "\n",
    "dftrain = counts(Atrain,Vtrain, 100, 100, windowsize=1, pairs=2)\n",
    "dftest = counts(Atest,Vtest, 100, 100, windowsize=1, pairs=2)\n",
    "\n",
    "# Line1:\n",
    "dftrain['state'] = dftrain.apply(apply_state_, axis=1)\n",
    "dftest['state'] = dftest.apply(apply_state_, axis=1)\n",
    "\n",
    "windowsize = 1\n",
    "max_state = 3**(2*windowsize) # 3**(2n)\n",
    "C = np.zeros((100, max_state))"
   ]
  },
  {
   "cell_type": "code",
   "execution_count": 113,
   "metadata": {},
   "outputs": [
    {
     "name": "stdout",
     "output_type": "stream",
     "text": [
      "A   V \n",
      "-1  -1    [0]\n",
      "     0    [1]\n",
      "     1    [2]\n",
      " 0  -1    [3]\n",
      "     0    [4]\n",
      "     1    [5]\n",
      " 1  -1    [6]\n",
      "     0    [7]\n",
      "     1    [8]\n",
      "Name: state, dtype: object\n",
      "A   V \n",
      "-1  -1    [0]\n",
      "     0    [1]\n",
      "     1    [2]\n",
      " 0  -1    [3]\n",
      "     0    [4]\n",
      "     1    [5]\n",
      " 1  -1    [6]\n",
      "     0    [7]\n",
      "     1    [8]\n",
      "Name: state, dtype: object\n"
     ]
    }
   ],
   "source": [
    "# Group by A and V, then list unique state values for each combination\n",
    "summarytrain = dftrain.groupby(['A', 'V'])['state'].unique()\n",
    "summarytest = dftest.groupby(['A', 'V'])['state'].unique()\n",
    "\n",
    "\n",
    "# Print the summary\n",
    "print(summarytrain)\n",
    "\n",
    "print(summarytest)\n"
   ]
  },
  {
   "cell_type": "code",
   "execution_count": 160,
   "metadata": {},
   "outputs": [
    {
     "name": "stdout",
     "output_type": "stream",
     "text": [
      "53\n",
      "71\n",
      "77\n",
      "79\n",
      "725\n",
      "727\n",
      "728\n",
      "566\n",
      "242\n"
     ]
    }
   ],
   "source": [
    "def basenum(draw_sequence):\n",
    "    base_number = 0\n",
    "    for draw in draw_sequence:\n",
    "        base_number = base_number * 3 + (draw + 1) #state_to_digit[draw]\n",
    "    print(base_number)\n",
    "\n",
    "basenum([0, 1, 1, 1])\n",
    "\n",
    "basenum([1, 0, 1, 1])\n",
    "\n",
    "basenum([1, 1, 0, 1])\n",
    "\n",
    "basenum([1, 1, 1, 0])\n",
    "\n",
    "basenum([1, 1, 1, 1, 0, 1])\n",
    "\n",
    "basenum([1, 1, 1, 1, 1, 0])\n",
    "\n",
    "basenum([1, 1, 1, 1, 1, 1])\n",
    "basenum([1, -1, 1, 1, 1, 1])\n",
    "basenum([-1, 1, 1, 1, 1, 1])"
   ]
  },
  {
   "cell_type": "code",
   "execution_count": 148,
   "metadata": {},
   "outputs": [
    {
     "data": {
      "text/plain": [
       "state\n",
       "0    19\n",
       "1    14\n",
       "7    13\n",
       "3    12\n",
       "8    11\n",
       "5    10\n",
       "4     9\n",
       "6     7\n",
       "2     5\n",
       "Name: count, dtype: int64"
      ]
     },
     "execution_count": 148,
     "metadata": {},
     "output_type": "execute_result"
    }
   ],
   "source": [
    "# Line2: \n",
    "# Calculate value counts\n",
    "state_countstrain = dftrain['state'].value_counts()\n",
    "state_countstest = dftest['state'].value_counts()\n",
    "\n",
    "state_countstrain\n"
   ]
  },
  {
   "cell_type": "code",
   "execution_count": 149,
   "metadata": {},
   "outputs": [
    {
     "data": {
      "text/plain": [
       "range(0, 9)"
      ]
     },
     "execution_count": 149,
     "metadata": {},
     "output_type": "execute_result"
    }
   ],
   "source": [
    "# Line3:\n",
    "# Generate a range of numbers representing all possible states\n",
    "# Adjust the range based on your specific needs (max_state + 1)\n",
    "\n",
    "all_possible_states = range(0, max_state)  # Replace max_state with your actual maximum state value\n",
    "all_possible_states"
   ]
  },
  {
   "cell_type": "code",
   "execution_count": 163,
   "metadata": {},
   "outputs": [
    {
     "name": "stdout",
     "output_type": "stream",
     "text": [
      "state\n",
      "0    19\n",
      "1    14\n",
      "2     5\n",
      "3    12\n",
      "4     9\n",
      "5    10\n",
      "6     7\n",
      "7    13\n",
      "8    11\n",
      "Name: count, dtype: int64\n",
      "[19 12  7 14  9 13  5 10 11]\n",
      "[19. 14.  5. 12.  9. 10.  7. 13. 11.]\n"
     ]
    }
   ],
   "source": [
    "# Line4:\n",
    "# Reindex the value counts to include all possible states\n",
    "# Fill missing values (states with 0 occurrences) with 0\n",
    "state_countstrain = state_countstrain.reindex(all_possible_states, fill_value=0)\n",
    "\n",
    "state_countstest = state_countstest.reindex(all_possible_states, fill_value=0)\n",
    "print(state_countstrain)\n",
    "print(C1train[0])\n",
    "print(C2train[0])"
   ]
  },
  {
   "cell_type": "code",
   "execution_count": 143,
   "metadata": {},
   "outputs": [
    {
     "name": "stdout",
     "output_type": "stream",
     "text": [
      "state\n",
      "0     6\n",
      "1    15\n",
      "2    13\n",
      "3    15\n",
      "4    11\n",
      "5    10\n",
      "6    12\n",
      "7     9\n",
      "8     9\n",
      "Name: count, dtype: int64\n",
      "[ 6 15 12 15 11  9 13 10  9]\n"
     ]
    }
   ],
   "source": [
    "print(state_countstest)\n",
    "print(C1test[0])"
   ]
  },
  {
   "cell_type": "code",
   "execution_count": null,
   "metadata": {},
   "outputs": [],
   "source": [
    "\n",
    "\n",
    "#state_counts = state_counts.values.reshape(1,-1)\n",
    "C[trialnum,:] = state_counts"
   ]
  },
  {
   "cell_type": "code",
   "execution_count": 111,
   "metadata": {},
   "outputs": [
    {
     "data": {
      "text/html": [
       "<div>\n",
       "<style scoped>\n",
       "    .dataframe tbody tr th:only-of-type {\n",
       "        vertical-align: middle;\n",
       "    }\n",
       "\n",
       "    .dataframe tbody tr th {\n",
       "        vertical-align: top;\n",
       "    }\n",
       "\n",
       "    .dataframe thead th {\n",
       "        text-align: right;\n",
       "    }\n",
       "</style>\n",
       "<table border=\"1\" class=\"dataframe\">\n",
       "  <thead>\n",
       "    <tr style=\"text-align: right;\">\n",
       "      <th></th>\n",
       "      <th>A</th>\n",
       "      <th>V</th>\n",
       "    </tr>\n",
       "  </thead>\n",
       "  <tbody>\n",
       "    <tr>\n",
       "      <th>0</th>\n",
       "      <td>0</td>\n",
       "      <td>0</td>\n",
       "    </tr>\n",
       "    <tr>\n",
       "      <th>1</th>\n",
       "      <td>0</td>\n",
       "      <td>-1</td>\n",
       "    </tr>\n",
       "    <tr>\n",
       "      <th>2</th>\n",
       "      <td>1</td>\n",
       "      <td>0</td>\n",
       "    </tr>\n",
       "    <tr>\n",
       "      <th>3</th>\n",
       "      <td>-1</td>\n",
       "      <td>1</td>\n",
       "    </tr>\n",
       "    <tr>\n",
       "      <th>4</th>\n",
       "      <td>1</td>\n",
       "      <td>-1</td>\n",
       "    </tr>\n",
       "    <tr>\n",
       "      <th>...</th>\n",
       "      <td>...</td>\n",
       "      <td>...</td>\n",
       "    </tr>\n",
       "    <tr>\n",
       "      <th>95</th>\n",
       "      <td>1</td>\n",
       "      <td>-1</td>\n",
       "    </tr>\n",
       "    <tr>\n",
       "      <th>96</th>\n",
       "      <td>1</td>\n",
       "      <td>-1</td>\n",
       "    </tr>\n",
       "    <tr>\n",
       "      <th>97</th>\n",
       "      <td>-1</td>\n",
       "      <td>0</td>\n",
       "    </tr>\n",
       "    <tr>\n",
       "      <th>98</th>\n",
       "      <td>-1</td>\n",
       "      <td>0</td>\n",
       "    </tr>\n",
       "    <tr>\n",
       "      <th>99</th>\n",
       "      <td>1</td>\n",
       "      <td>0</td>\n",
       "    </tr>\n",
       "  </tbody>\n",
       "</table>\n",
       "<p>100 rows × 2 columns</p>\n",
       "</div>"
      ],
      "text/plain": [
       "    A  V\n",
       "0   0  0\n",
       "1   0 -1\n",
       "2   1  0\n",
       "3  -1  1\n",
       "4   1 -1\n",
       ".. .. ..\n",
       "95  1 -1\n",
       "96  1 -1\n",
       "97 -1  0\n",
       "98 -1  0\n",
       "99  1  0\n",
       "\n",
       "[100 rows x 2 columns]"
      ]
     },
     "execution_count": 111,
     "metadata": {},
     "output_type": "execute_result"
    }
   ],
   "source": [
    "dftest"
   ]
  },
  {
   "cell_type": "code",
   "execution_count": null,
   "metadata": {},
   "outputs": [],
   "source": []
  }
 ],
 "metadata": {
  "kernelspec": {
   "display_name": "myenv",
   "language": "python",
   "name": "python3"
  },
  "language_info": {
   "codemirror_mode": {
    "name": "ipython",
    "version": 3
   },
   "file_extension": ".py",
   "mimetype": "text/x-python",
   "name": "python",
   "nbconvert_exporter": "python",
   "pygments_lexer": "ipython3",
   "version": "3.8.18"
  }
 },
 "nbformat": 4,
 "nbformat_minor": 2
}
