{
 "cells": [
  {
   "cell_type": "code",
   "execution_count": 1,
   "id": "c8423563-3e3c-4f77-8f69-f2daa88ad1d1",
   "metadata": {},
   "outputs": [],
   "source": [
    "from multisensory_playbook import (\n",
    "    ClassicalTask,\n",
    "    DetectionTask,\n",
    "    DetectionTask_versatile,\n",
    "    LinearClassifier,\n",
    "    Trials\n",
    ")\n",
    "\n",
    "import pickle\n",
    "from pathlib import Path\n",
    "import pandas as pd\n",
    "import numpy as np\n",
    "import matplotlib.pyplot as plt\n",
    "import torch\n",
    "from scipy.optimize import fsolve\n",
    "import joblib\n",
    "import sys, os\n",
    "from pylab import *\n",
    "\n"
   ]
  },
  {
   "cell_type": "code",
   "execution_count": 2,
   "id": "25991ba8-04ec-40f2-8427-7b3c8d868ae3",
   "metadata": {},
   "outputs": [],
   "source": [
    "def calculate_pg(ff, k, N=90, correction=1):\n",
    "    \"\"\"\n",
    "    Use ff to calulate pg, given a k and N\n",
    "    ff: desired filtered fraction of E \n",
    "    pg: probability of E(t)=1 in the base_e (generator)\n",
    "    k : local on-time duration\n",
    "    N : number time-steps\n",
    "    \"\"\"\n",
    "    buffer = k\n",
    "    #pg = (1-fsolve(lambda x: ff-(1-x**k)/(1-x**(N)), 0.9))[0] \n",
    "    if correction:\n",
    "        ff = (1-fsolve(lambda x: ff-(1-x**k)/(1-x**(N+int(buffer)-1*(k-1))), 0.9))[0]\n",
    "\n",
    "    return ff\n",
    "\n",
    "def levy_solve_for_pg(ff_desired, pl, N=500): \n",
    "    cpl=cumsum(pl) \n",
    "\n",
    "    lmax = len(pl)-1 \n",
    "    \n",
    "    lengths = arange(lmax+1) \n",
    "    \n",
    "    fs = lambda pg: 1-prod(1-pg+pg*cpl) \n",
    "    \n",
    "    ff = lambda pg: fs(pg)/(1-prod((1-pg*pl[1:])**(N+lengths[1:]-1))) \n",
    "    \n",
    "    pg = fsolve(lambda pg: ff_desired-ff(pg), ff_desired)[0] \n",
    "    \n",
    "    return pg \n",
    "\n",
    "\n",
    "def levy_dist(lmax):\n",
    "  l = arange(lmax+1) # allow l=0 but must have p=0\n",
    "  pl = zeros(lmax+1)\n",
    "  pl[1:] = 1.0/l[1:]**2\n",
    "  pl[:] /= sum(pl)\n",
    "  return pl\n",
    "    \n",
    "def generate_mix_samples(pg, pl, N=90, repeats=10):\n",
    "  \n",
    "  lmax = len(pl)-1\n",
    "  #print('lmax ', lmax)\n",
    "  #pgl = pg*pl\n",
    "  M = N+lmax-1\n",
    "  all_E = []\n",
    "  positions = arange(M)\n",
    "  lengths = arange(lmax+1)\n",
    "  for _ in range(repeats):\n",
    "    keep_going = True\n",
    "    while keep_going:\n",
    "      # generate nonzero points\n",
    "      num_nonzero = binomial(M, pg)\n",
    "      if num_nonzero==0:\n",
    "        continue\n",
    "      E_starts = choice(positions, size=num_nonzero, replace=False)\n",
    "      L = choice(lengths, size=num_nonzero, p=pl)\n",
    "      #print('L ', L)\n",
    "      E = zeros(M, dtype=bool)\n",
    "      for e_start, l in zip(E_starts, L):\n",
    "        E[e_start:e_start+l] = 1\n",
    "      E = E[lmax-1:]\n",
    "      assert len(E)==N\n",
    "      keep_going = (sum(E)==0)\n",
    "    all_E.append(E)\n",
    "  all_E = array(all_E) # shape (repeats, N)\n",
    "  return all_E\n",
    "\n",
    "def estimate_fraction_on(pg, pl, N=90, repeats=1000):\n",
    "  return generate_mix_samples(pg, pl, N=N, repeats=repeats).mean()\n",
    "\n",
    "def generate_levy_AV(pm, pn, pi, pc, nb_trials, nb_steps, E):\n",
    "    arr_M = choice([-1, 0, 1], size=nb_trials, p=[pm / 2, 1 - pm, pm / 2])\n",
    "    arr_A = np.zeros((nb_trials, nb_steps), dtype=int) # Q1! + k padding in the begining of E for Levy flights?\n",
    "    arr_V = np.zeros((nb_trials, nb_steps), dtype=int)\n",
    "    arr_E = E #np.zeros((nb_trials, nb_steps-k), dtype=int)\n",
    "\n",
    "    for trial in range(nb_trials):\n",
    "        M = arr_M[trial]\n",
    "        e0 = np.array([-1, 0, 1]) # Add noise if E = 0\n",
    "        p_e0 = np.array([pn / 2, 1 - pn, pn / 2])\n",
    "        e1 = np.array([-M, 0, M]) # add probabilities for incorrectness\n",
    "        p_e1 = np.array([pi, 1 + (- pc - pi), pc])\n",
    "        \n",
    "        A = np.where(E[trial], choice(e1, size=E[trial].size, p=p_e1), choice(e0, size=E[trial].size, p=p_e0))\n",
    "        V = np.where(E[trial], choice(e1, size=E[trial].size, p=p_e1), choice(e0, size=E[trial].size, p=p_e0))\n",
    "        arr_A[trial, :] = A \n",
    "        arr_V[trial, :] = V\n",
    "        #arr_E[trial, :] = E[trial]\n",
    "            \n",
    "    return arr_M, arr_A, arr_V,arr_E"
   ]
  },
  {
   "cell_type": "code",
   "execution_count": 3,
   "id": "d4b4f51f-c60b-4bfd-b623-4e5f20381b93",
   "metadata": {},
   "outputs": [],
   "source": [
    "k_list = [1,2,3,4,5,6,7,8]\n",
    "windowsize_list = [2,3]\n",
    "\n",
    "pe_sparse = 0.04\n",
    "\n",
    "time_dep = 1 # 1: there is time dependence\n",
    "\n",
    "\n",
    "\n",
    "lmax = 8 #levy k max\n",
    "pl = levy_dist(lmax) # #8 * [1/8] #\n",
    "pm, pn, pi, pc, nb_trials, nb_steps = 1, 1/3, 0.01, 0.45, 100000, 500\n",
    "E = generate_mix_samples(pg=levy_solve_for_pg(pe_sparse, pl, N=500), pl=pl, N=nb_steps, repeats=nb_trials)\n",
    "\n",
    "# Generate testing data \n",
    "training_size = nb_trials\n",
    "M, A, V, E = generate_levy_AV(pm, pn, pi, pc, nb_trials, nb_steps, E)\n",
    "testing_trials = Trials(\n",
    "    repeats=training_size,\n",
    "    time_steps=nb_steps+lmax-1,\n",
    "    M=M,\n",
    "    A=A,\n",
    "    V=V,\n",
    "    task=None\n",
    ")"
   ]
  },
  {
   "cell_type": "code",
   "execution_count": 4,
   "id": "8f97149e-585a-4b83-840f-1a3c86f655f2",
   "metadata": {},
   "outputs": [],
   "source": [
    "def plot_avE(E):\n",
    "    # Calculate mean (which is equivalent to probability for binary data)\n",
    "    avE = np.mean(E, axis=0)\n",
    "\n",
    "    # Calculate standard deviation for binary data\n",
    "    stdE = np.sqrt(avE * (1 - avE))\n",
    "\n",
    "    plt.figure(figsize=(12, 3))\n",
    "    plt.plot(avE, label='Mean/Probability', color='steelblue')\n",
    "    plt.fill_between(range(len(avE)), avE - stdE, avE + stdE, alpha=0.3, color='lightblue', label='±1 SD')\n",
    "    plt.title(f\" x̄ = {np.round(np.mean(avE),2)}\")\n",
    "    plt.ylabel('Probability')\n",
    "    plt.xlabel('Time Step')\n",
    "    plt.legend()\n",
    "    #plt.ylim(0, 0.6)  # Set y-axis limits to 0-1 for probability\n",
    "    plt.show()\n",
    "\n",
    "    # Print some statistics\n",
    "    print(f\"Min probability: {np.min(avE):.4f}\")\n",
    "    print(f\"Max probability: {np.max(avE):.4f}\")\n",
    "    print(f\"Overall mean probability: {np.mean(avE):.4f}\")"
   ]
  },
  {
   "cell_type": "code",
   "execution_count": 7,
   "id": "f375c1ca-6130-429c-af3b-636cb0a211f7",
   "metadata": {},
   "outputs": [
    {
     "data": {
      "image/png": "[encoded data removed]",
      "text/plain": [
       "<Figure size 1200x300 with 1 Axes>"
      ]
     },
     "metadata": {},
     "output_type": "display_data"
    },
    {
     "name": "stdout",
     "output_type": "stream",
     "text": [
      "Min probability: 0.0382\n",
      "Max probability: 0.0421\n",
      "Overall mean probability: 0.0400\n"
     ]
    }
   ],
   "source": [
    "plot_avE(E)"
   ]
  },
  {
   "cell_type": "code",
   "execution_count": 8,
   "id": "73ba1ef1-e16b-4489-be04-263c1dbdcd70",
   "metadata": {},
   "outputs": [],
   "source": [
    "#file_path = f'./trainedclassifier/NLFw_trained_classifiers_500steps.pkl'\n",
    "file_path = f'./NLFw_trained_classifiers_500steps_Levy_eq.pkl' # NLFw_trained_classifiers_500steps_Levy\n",
    "\n",
    "with open(file_path, 'rb') as file:\n",
    "    trained_classifiers_dict = pickle.load(file)"
   ]
  },
  {
   "cell_type": "code",
   "execution_count": 9,
   "id": "3e4dea84-1593-425b-9fe3-f64fd173f02a",
   "metadata": {},
   "outputs": [
    {
     "data": {
      "text/plain": [
       "{('levy', 2): <multisensory_playbook.LinearClassifier at 0x7f7e0be6f440>,\n",
       " ('levy', 3): <multisensory_playbook.LinearClassifier at 0x7f7d45665b20>}"
      ]
     },
     "execution_count": 9,
     "metadata": {},
     "output_type": "execute_result"
    }
   ],
   "source": [
    "trained_classifiers_dict"
   ]
  },
  {
   "cell_type": "code",
   "execution_count": 10,
   "id": "0d4cfa92-f747-42a9-ae52-1ec02c2a4b45",
   "metadata": {},
   "outputs": [],
   "source": [
    "prefix_list = ['LF', 'NLF_1']\n",
    "k_list = ['levy']"
   ]
  },
  {
   "cell_type": "code",
   "execution_count": 11,
   "id": "8fd87404-af95-4eb1-9232-b07ff806bde0",
   "metadata": {},
   "outputs": [
    {
     "name": "stdout",
     "output_type": "stream",
     "text": [
      "win size:  2\n",
      "win size:  3\n"
     ]
    }
   ],
   "source": [
    "for pairs in [2]:\n",
    "    if pairs == 2:\n",
    "        windowsize_list = [2,3]\n",
    "    if pairs in [0,1]:\n",
    "        windowsize_list = prefix_list # Rename windowsize for saving in dictionary\n",
    "    acc_dict = {}\n",
    "    metrics_dict = {}\n",
    "    for train_k in k_list:\n",
    "        for windowsize in windowsize_list:\n",
    "            trained_classifier = trained_classifiers_dict[(train_k, windowsize)]       \n",
    "            E = generate_mix_samples(pg=levy_solve_for_pg(pe_sparse, pl, N=nb_steps), pl=pl, N=nb_steps, repeats=nb_trials)\n",
    "\n",
    "            # Generate testing data \n",
    "            training_size = nb_trials\n",
    "            M, A, V, E = generate_levy_AV(pm, pn, pi, pc, nb_trials, nb_steps, E)\n",
    "            testing_trials = Trials(\n",
    "                repeats=training_size,\n",
    "                time_steps=nb_steps+lmax-1,\n",
    "                M=M,\n",
    "                A=A,\n",
    "                V=V,\n",
    "                task=None\n",
    "            )\n",
    "            # Calculate accuracy\n",
    "    \n",
    "            classifier = trained_classifier\n",
    "            res = classifier.test(testing_trials)\n",
    "            accs = res.accuracy\n",
    "            if pairs in [0,1]:\n",
    "                windowsize = prefix_list[pairs] # Rename windowsize for saving in dictionary         \n",
    "            acc_dict[(train_k,windowsize,'Levy')] = accs\n",
    "            metrics_dict[(train_k, windowsize, 'Levy')] = {\n",
    "                'accuracy': res.accuracy,\n",
    "                'precision': res.precision.tolist(),  # Convert numpy array to list for easier storage\n",
    "                'recall': res.recall.tolist(),\n",
    "                'f1': res.f1.tolist(),\n",
    "                'support': res.support.tolist(),\n",
    "                'class_distribution': res.class_distribution.tolist()\n",
    "            }\n",
    "    \n",
    "    if pairs in [0,1]:\n",
    "        with open(f'./{prefix_list[pairs]}_classifier_testmetrics_onlevy_eq.pkl', 'wb') as file:\n",
    "          pickle.dump(pickle.dump(metrics_dict, file), file)\n",
    "    else:\n",
    "        with open('./NLFw_classifier_testmetrics_testedonlevy_trainedonlevy_eq.pkl', 'wb') as file:\n",
    "          pickle.dump(metrics_dict, file)"
   ]
  },
  {
   "cell_type": "code",
   "execution_count": 12,
   "id": "0c2ebb91-7316-402f-82ec-8993062badfe",
   "metadata": {},
   "outputs": [
    {
     "data": {
      "text/plain": [
       "{('levy', 2, 'Levy'): 0.828, ('levy', 3, 'Levy'): 0.823}"
      ]
     },
     "execution_count": 12,
     "metadata": {},
     "output_type": "execute_result"
    }
   ],
   "source": [
    "acc_dict "
   ]
  },
  {
   "cell_type": "code",
   "execution_count": 11,
   "id": "7dbf22e5-b5fe-4702-93d4-12e4a6576631",
   "metadata": {},
   "outputs": [
    {
     "name": "stdout",
     "output_type": "stream",
     "text": [
      "win size:  2\n",
      "win size:  3\n",
      "win size:  2\n",
      "win size:  3\n",
      "win size:  2\n",
      "win size:  3\n",
      "win size:  2\n",
      "win size:  3\n",
      "win size:  2\n",
      "win size:  3\n",
      "win size:  2\n",
      "win size:  3\n",
      "win size:  2\n",
      "win size:  3\n",
      "win size:  2\n",
      "win size:  3\n"
     ]
    }
   ],
   "source": [
    "# Repeating\n",
    "k_list = [1,2,3,4,5,6,7,8]\n",
    "windowsize_list = [2,3]\n",
    "\n",
    "pe_sparse = 0.04\n",
    "\n",
    "time_dep = 1 # 1: there is time dependence\n",
    "\n",
    "\n",
    "\n",
    "lmax = 8 #levy k max\n",
    "pl = levy_dist(lmax) # #\n",
    "pm, pn, pi, pc, nb_trials, nb_steps = 1, 1/3, 0.01, 0.45, 100000, 500\n",
    "E = generate_mix_samples(pg=levy_solve_for_pg(pe_sparse, pl, N=500), pl=pl, N=nb_steps, repeats=nb_trials)\n",
    "\n",
    "# Generate testing data \n",
    "training_size = nb_trials\n",
    "M, A, V, E = generate_levy_AV(pm, pn, pi, pc, nb_trials, nb_steps, E)\n",
    "testing_trials = Trials(\n",
    "    repeats=training_size,\n",
    "    time_steps=nb_steps+lmax-1,\n",
    "    M=M,\n",
    "    A=A,\n",
    "    V=V,\n",
    "    task=None\n",
    ")\n",
    "\n",
    "for pairs in [2]:\n",
    "    if pairs == 2:\n",
    "        windowsize_list = [2,3]\n",
    "    if pairs in [0,1]:\n",
    "        windowsize_list = prefix_list # Rename windowsize for saving in dictionary\n",
    "    acc_dict = {}\n",
    "    metrics_dict = {}\n",
    "    for train_k in k_list:\n",
    "        for windowsize in windowsize_list:\n",
    "            trained_classifier = trained_classifiers_dict[(train_k, windowsize)]       \n",
    "            E = generate_mix_samples(pg=levy_solve_for_pg(pe_sparse, pl, N=nb_steps), pl=pl, N=nb_steps, repeats=nb_trials)\n",
    "\n",
    "            # Generate testing data \n",
    "            training_size = nb_trials\n",
    "            M, A, V, E = generate_levy_AV(pm, pn, pi, pc, nb_trials, nb_steps, E)\n",
    "            testing_trials = Trials(\n",
    "                repeats=training_size,\n",
    "                time_steps=nb_steps+lmax-1,\n",
    "                M=M,\n",
    "                A=A,\n",
    "                V=V,\n",
    "                task=None\n",
    "            )\n",
    "            # Calculate accuracy\n",
    "    \n",
    "            classifier = trained_classifier\n",
    "            res = classifier.test(testing_trials)\n",
    "            accs = res.accuracy\n",
    "            if pairs in [0,1]:\n",
    "                windowsize = prefix_list[pairs] # Rename windowsize for saving in dictionary         \n",
    "            acc_dict[(train_k,windowsize,'Levy')] = accs\n",
    "            metrics_dict[(train_k, windowsize, 'Levy')] = {\n",
    "                'accuracy': res.accuracy,\n",
    "                'precision': res.precision.tolist(),  # Convert numpy array to list for easier storage\n",
    "                'recall': res.recall.tolist(),\n",
    "                'f1': res.f1.tolist(),\n",
    "                'support': res.support.tolist(),\n",
    "                'class_distribution': res.class_distribution.tolist()\n",
    "            }\n",
    "    \n",
    "    if pairs in [0,1]:\n",
    "        with open(f'./{prefix_list[pairs]}_classifier_testmetrics_onlevy_eq.pkl', 'wb') as file:\n",
    "          pickle.dump(pickle.dump(metrics_dict, file), file)\n",
    "    else:\n",
    "        with open('./NLFw_classifier_testmetrics_testedonlevy.pkl', 'wb') as file:\n",
    "          pickle.dump(metrics_dict, file)"
   ]
  },
  {
   "cell_type": "code",
   "execution_count": null,
   "id": "2dfd1956-468d-46cf-ab18-49c75fa6cccb",
   "metadata": {},
   "outputs": [],
   "source": []
  },
  {
   "cell_type": "code",
   "execution_count": null,
   "id": "6d725b56-fac0-4550-9fe1-0c221881de68",
   "metadata": {},
   "outputs": [],
   "source": []
  },
  {
   "cell_type": "code",
   "execution_count": 47,
   "id": "9fbc8cc7-548c-4083-9d6e-0536ab49c9d1",
   "metadata": {},
   "outputs": [
    {
     "data": {
      "text/plain": [
       "{(1, 2, 'Levy'): 0.995,\n",
       " (1, 3, 'Levy'): 0.995,\n",
       " (2, 2, 'Levy'): 0.996,\n",
       " (2, 3, 'Levy'): 0.996,\n",
       " (3, 2, 'Levy'): 0.996,\n",
       " (3, 3, 'Levy'): 0.997,\n",
       " (4, 2, 'Levy'): 0.996,\n",
       " (4, 3, 'Levy'): 0.997,\n",
       " (5, 2, 'Levy'): 0.996,\n",
       " (5, 3, 'Levy'): 0.997,\n",
       " (6, 2, 'Levy'): 0.996,\n",
       " (6, 3, 'Levy'): 0.996,\n",
       " (7, 2, 'Levy'): 0.996,\n",
       " (7, 3, 'Levy'): 0.997,\n",
       " (8, 2, 'Levy'): 0.996,\n",
       " (8, 3, 'Levy'): 0.997}"
      ]
     },
     "execution_count": 47,
     "metadata": {},
     "output_type": "execute_result"
    }
   ],
   "source": [
    "acc_dict # flat"
   ]
  },
  {
   "cell_type": "code",
   "execution_count": 12,
   "id": "48ff7abe-17a3-4f42-bbf8-29934e583065",
   "metadata": {},
   "outputs": [
    {
     "data": {
      "text/plain": [
       "{(1, 2, 'Levy'): 0.826,\n",
       " (1, 3, 'Levy'): 0.824,\n",
       " (2, 2, 'Levy'): 0.832,\n",
       " (2, 3, 'Levy'): 0.831,\n",
       " (3, 2, 'Levy'): 0.831,\n",
       " (3, 3, 'Levy'): 0.832,\n",
       " (4, 2, 'Levy'): 0.828,\n",
       " (4, 3, 'Levy'): 0.824,\n",
       " (5, 2, 'Levy'): 0.828,\n",
       " (5, 3, 'Levy'): 0.822,\n",
       " (6, 2, 'Levy'): 0.825,\n",
       " (6, 3, 'Levy'): 0.819,\n",
       " (7, 2, 'Levy'): 0.825,\n",
       " (7, 3, 'Levy'): 0.818,\n",
       " (8, 2, 'Levy'): 0.823,\n",
       " (8, 3, 'Levy'): 0.817}"
      ]
     },
     "execution_count": 12,
     "metadata": {},
     "output_type": "execute_result"
    }
   ],
   "source": [
    "acc_dict # flat and trained on Levy"
   ]
  },
  {
   "cell_type": "code",
   "execution_count": 68,
   "id": "f6a5582d-165f-4909-8d74-9005f8c9ebc3",
   "metadata": {},
   "outputs": [
    {
     "data": {
      "text/plain": [
       "{('levy', 2, 'Levy'): 0.947, ('levy', 3, 'Levy'): 0.946}"
      ]
     },
     "execution_count": 68,
     "metadata": {},
     "output_type": "execute_result"
    }
   ],
   "source": [
    "acc_dict"
   ]
  }
 ],
 "metadata": {
  "kernelspec": {
   "display_name": "cuda-env",
   "language": "python",
   "name": "cuda-env"
  },
  "language_info": {
   "codemirror_mode": {
    "name": "ipython",
    "version": 3
   },
   "file_extension": ".py",
   "mimetype": "text/x-python",
   "name": "python",
   "nbconvert_exporter": "python",
   "pygments_lexer": "ipython3",
   "version": "3.12.3"
  }
 },
 "nbformat": 4,
 "nbformat_minor": 5
}
